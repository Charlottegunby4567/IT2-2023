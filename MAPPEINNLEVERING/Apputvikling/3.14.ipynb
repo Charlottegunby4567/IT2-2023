{
 "cells": [
  {
   "cell_type": "markdown",
   "metadata": {},
   "source": [
    "# Lag et program som genrerer mailadresser fra fornavn og etternavn. Mailen skal bestå av hele det første fornavnet og første bokstav i etternavnet etterfulgt av @afk.no. For eksempel skal Thor Christian Coward bli thorc@afk.no. Som input til programmet må brukeren skrive inn minst to navn (fornavn og etternavn), hvis ikke skal brukeren få en feilmelding og få lov til å skrive input på nytt."
   ]
  }
 ],
 "metadata": {
  "language_info": {
   "name": "python"
  }
 },
 "nbformat": 4,
 "nbformat_minor": 2
}

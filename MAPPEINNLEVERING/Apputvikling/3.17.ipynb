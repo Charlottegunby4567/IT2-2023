{
 "cells": [
  {
   "cell_type": "markdown",
   "metadata": {},
   "source": [
    "## Oppgave 3.17 - Kommentar"
   ]
  },
  {
   "cell_type": "markdown",
   "metadata": {},
   "source": [
    "1. Lag en fil 3-17.py\n",
    "2. Hva gjør koden under? Skriv svaret som en kommentar øverst i filen.\n",
    "3. Kopier koden inn i filen, og endre variabelnavn i koden slik at den blir lettere å forstå uten kommentarer.\n",
    "4. Se over den endrede koden, er den lett å forstå? Hvis ikke, legg på nødvendige kommentarer.\n"
   ]
  },
  {
   "cell_type": "code",
   "execution_count": 1,
   "metadata": {},
   "outputs": [],
   "source": [
    "a = float(input(\"Grunnlinje (cm): \"))\n",
    "b = float(input(\"Høyde (cm): \"))\n",
    " \n",
    "c = a*b/2\n",
    "print(f\"Arealet er {c} cm^2\")"
   ]
  },
  {
   "cell_type": "markdown",
   "metadata": {},
   "source": [
    "### Koden er en formel for areal av en trekant"
   ]
  }
 ],
 "metadata": {
  "kernelspec": {
   "display_name": "Python 3",
   "language": "python",
   "name": "python3"
  },
  "language_info": {
   "codemirror_mode": {
    "name": "ipython",
    "version": 3
   },
   "file_extension": ".py",
   "mimetype": "text/x-python",
   "name": "python",
   "nbconvert_exporter": "python",
   "pygments_lexer": "ipython3",
   "version": "3.11.4"
  }
 },
 "nbformat": 4,
 "nbformat_minor": 2
}

{
 "cells": [
  {
   "cell_type": "markdown",
   "metadata": {},
   "source": [
    "## Oppgave 2.18 - Kommentar"
   ]
  },
  {
   "cell_type": "markdown",
   "metadata": {},
   "source": [
    "1. Lag en fil 3-18.py\n",
    "2. Hva gjør koden under? Skriv svaret som en kommentar øverst i filen.\n",
    "3. Kopier koden inn i filen, og endre variabelnavn i koden slik at den blir lettere å forstå uten kommentarer.\n",
    "4. Se over den endrede koden, er den lett å forstå? Hvis ikke, legg på nødvendige kommentarer."
   ]
  },
  {
   "cell_type": "code",
   "execution_count": 1,
   "metadata": {},
   "outputs": [
    {
     "name": "stdout",
     "output_type": "stream",
     "text": [
      "2\n",
      "1\n"
     ]
    }
   ],
   "source": [
    "f1 = [\n",
    "    {\"navn\": \"Max Verstappen\", \"nasjonalitet\": \"nederlandsk\", \"team\": \"Red Bull Racing\", \"bilnummer\": 1},\n",
    "    {\"navn\": \"Sergio Perez\", \"nasjonalitet\": \"meksikansk\", \"team\": \"Red Bull Racing\", \"bilnummer\": 11},\n",
    "    {\"navn\": \"Lewis Hamilton\", \"nasjonalitet\": \"britisk\", \"team\": \"Mercedes\", \"bilnummer\": 44},\n",
    "    {\"navn\": \"George Russell\", \"nasjonalitet\": \"britisk\", \"team\": \"Mercedes\", \"bilnummer\": 63},\n",
    "    {\"navn\": \"Charles Leclerc\", \"nasjonalitet\": \"monegaskisk\", \"team\": \"Ferrari\", \"bilnummer\": 16},\n",
    "    {\"navn\": \"Kevin Magnussen\", \"nasjonalitet\": \"dansk\", \"team\": \"Haas F1 Team\", \"bilnummer\": 20},\n",
    "    {\"navn\": \"Nico Hulkenberg\", \"nasjonalitet\": \"tysk\", \"team\": \"Haas F1 Team\", \"bilnummer\": 27}\n",
    "]\n",
    " \n",
    "antall = {}\n",
    " \n",
    "for s in f1:         \n",
    "  if s['nasjonalitet'] not in antall:\n",
    "    antall[s['nasjonalitet']] = 1\n",
    "  else:\n",
    "    antall[s['nasjonalitet']] += 1\n",
    " \n",
    "print(antall[\"britisk\"])\n",
    "print(antall[\"tysk\"])\n",
    " "
   ]
  }
 ],
 "metadata": {
  "kernelspec": {
   "display_name": "Python 3",
   "language": "python",
   "name": "python3"
  },
  "language_info": {
   "codemirror_mode": {
    "name": "ipython",
    "version": 3
   },
   "file_extension": ".py",
   "mimetype": "text/x-python",
   "name": "python",
   "nbconvert_exporter": "python",
   "pygments_lexer": "ipython3",
   "version": "3.11.4"
  }
 },
 "nbformat": 4,
 "nbformat_minor": 2
}

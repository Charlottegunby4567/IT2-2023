{
 "cells": [
  {
   "cell_type": "markdown",
   "metadata": {},
   "source": [
    "## Oppgave 2.19 - Docstrings"
   ]
  },
  {
   "cell_type": "markdown",
   "metadata": {},
   "source": [
    "1. Kopier koden i en .py-fil i VS-Code\n",
    "2. Legg på type hints i init-metoden\n",
    "3. Dokumenter klassen med docstrings"
   ]
  },
  {
   "cell_type": "code",
   "execution_count": 1,
   "metadata": {},
   "outputs": [
    {
     "name": "stdout",
     "output_type": "stream",
     "text": [
      "Rex sier: Woof!\n",
      "Rex vifter på halen!\n",
      "Rex er en 5 år gammel Schäfer.\n"
     ]
    }
   ],
   "source": [
    "class Hund:\n",
    "    def __init__(self, navn, alder, rase):\n",
    "        self.navn = navn\n",
    "        self.alder = alder\n",
    "        self.rase = rase\n",
    " \n",
    "    def bjeff(self):\n",
    "        return f\"{self.navn} sier: Woof!\"\n",
    " \n",
    "    def vift_på_halen(self):\n",
    "        return f\"{self.navn} vifter på halen!\"\n",
    " \n",
    "    def info(self):\n",
    "        return f\"{self.navn} er en {self.alder} år gammel {self.rase}.\"\n",
    " \n",
    "# Test av klassen\n",
    "if __name__ == \"__main__\":\n",
    "    min_hund = Hund(\"Rex\", 5, \"Schäfer\")\n",
    "    print(min_hund.bjeff())\n",
    "    print(min_hund.vift_på_halen())\n",
    "    print(min_hund.info())\n",
    " "
   ]
  }
 ],
 "metadata": {
  "kernelspec": {
   "display_name": "Python 3",
   "language": "python",
   "name": "python3"
  },
  "language_info": {
   "codemirror_mode": {
    "name": "ipython",
    "version": 3
   },
   "file_extension": ".py",
   "mimetype": "text/x-python",
   "name": "python",
   "nbconvert_exporter": "python",
   "pygments_lexer": "ipython3",
   "version": "3.11.4"
  }
 },
 "nbformat": 4,
 "nbformat_minor": 2
}

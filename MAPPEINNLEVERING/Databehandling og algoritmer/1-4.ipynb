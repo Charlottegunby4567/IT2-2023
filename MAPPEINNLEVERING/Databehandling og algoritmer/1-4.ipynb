{
 "cells": [
  {
   "cell_type": "markdown",
   "metadata": {},
   "source": [
    "# Oppgaver databehandling og algoritmer\n",
    "## 2.1 - 2.4"
   ]
  },
  {
   "cell_type": "markdown",
   "metadata": {},
   "source": [
    "## Oppgave 2.1\n",
    "\n",
    "Hvilket av følgende er ikke et typisk kjennetegn på pseudokode? Velg riktig alternativ.\n",
    "\n",
    "1. [] den har uformell syntaks.\n",
    "2. [] den ligner på vanlig menneskespråk.\n",
    "3. [x] den kan kjøres direkte på en datamaskin.\n",
    "4. [] den brukes ofte i planleggingsfasen av programmering."
   ]
  },
  {
   "cell_type": "markdown",
   "metadata": {},
   "source": [
    "## Oppgave 2.2\n",
    "\n",
    "Ta utgangspunkt i følgende pseudokode:\n",
    "\n",
    "SET m TO 3\n",
    "SET i TO 1\n",
    "WHILE i GREATER THAN m\n",
    "  DISPLAY \"Lykkelig dag!\"\n",
    "  INCREMENT i\n",
    "ENDWHILE\n",
    "\n",
    "\n",
    "Hvor mange ganger blir teksten \"Lykkelig dag!\" skrevet ut?\n",
    "\n",
    "1. [] tre ganger\n",
    "2. [] to ganger\n",
    "3. [] én gang\n",
    "4. [x] ingen ganger"
   ]
  },
  {
   "cell_type": "markdown",
   "metadata": {},
   "source": [
    "## Oppgave 2.3\n",
    "\n",
    "Hvilke av de følgende sekvensene med pseudokode skriver ut tallene fra og med 1 til og med 5? Flere alternativer kan være riktige. Velg riktige svar.\n",
    "\n",
    "1.\n",
    "SET i TO 1\n",
    "FOR hver i LESSER OR EQUAL 5\n",
    "  PRINT i\n",
    "ENDFOR\n",
    "\n",
    "2.\n",
    "SET i TO 1\n",
    "WHILE i < 5\n",
    "  PRINT i\n",
    "  INCREMENT i\n",
    "ENDWHILE\n",
    "\n",
    "3.\n",
    "SET i TO 0\n",
    "FOR hver i LESSER OR EQUAL 4\n",
    "  PRINT i+1\n",
    "ENDFOR\n",
    "\n",
    "4.\n",
    "SET i TO 1\n",
    "WHILE i <= 5\n",
    "  PRINT i\n",
    "  INCREMENT i BY 2\n",
    "ENDWHILE\n",
    " \n",
    " \n",
    "1. [x] 1\n",
    "2. [] 2\n",
    "3. [x] 3\n",
    "4. [] 4"
   ]
  },
  {
   "cell_type": "markdown",
   "metadata": {},
   "source": [
    "## Oppgave 2.4\n",
    "\n",
    "Tallene 1, 3, 6, 10, 15, 21 og så videre kalles for trekanttall. De tilsvarer antallet prikker som vil vises i en likesidet trekant når man bruker et grunnleggende trekantmønster for å bygge trekanten. Se illustrasjonen nedenfor:\n",
    "\n",
    "1 = 1\n",
    "2 = 3\n",
    "3 = 6\n",
    "4 = 10\n",
    "\n",
    "Den følgende pseudokoden beskriver en funksjon som regner ut og returner trekanttallet nummer n:\n",
    "\n",
    "FUNCTION trekanttall (n)\n",
    "  SET tn TO n * (n+1)/2\n",
    "  RETURN tn\n",
    "ENDFUNCTION\n",
    "\n",
    "Bruk funksjonen som er beskrevet ovenfor, og skriv pseudokoden til et program som regner sammen og skriver ut totalsummen av de ti første trekanttallene. Bruk dobbelt mellomrom for innrykk i koden der det er aktuelt. Skriv svaret ditt nedenfor.\n",
    "\n",
    "SVAR:\n",
    "SET total TO 0\n",
    "FOR EACH tall from 1 TO 10\n",
    "  SET total TO total + trekanttall(tall)\n",
    "DISPLAY total"
   ]
  }
 ],
 "metadata": {
  "language_info": {
   "name": "python"
  }
 },
 "nbformat": 4,
 "nbformat_minor": 2
}

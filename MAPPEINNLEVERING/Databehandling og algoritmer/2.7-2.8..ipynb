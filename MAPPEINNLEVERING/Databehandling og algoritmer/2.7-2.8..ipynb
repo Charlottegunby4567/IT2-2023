{
 "cells": [
  {
   "cell_type": "markdown",
   "metadata": {},
   "source": [
    "# Oppgaver databehandling og algoritmer\n",
    "\n",
    "## 2.7 - 2.8"
   ]
  },
  {
   "cell_type": "markdown",
   "metadata": {},
   "source": [
    "## Oppgave 2.7\n",
    "\n",
    "Hva er en while-løkke i programmering? (ett riktig svar)\n",
    "\n",
    "- [] en løkke som kjører et bestemt antall ganger\n",
    "- [] en løkke som kjører til en bestemt hendelse intreffer\n",
    "- [x] en løkke som kjører så lenge en bestemt betingelse er sann\n",
    "- [] en løkke som kjører så lenge en tilfeldig betingelse er sann\n"
   ]
  },
  {
   "cell_type": "markdown",
   "metadata": {},
   "source": [
    "## Oppgave 2.8\n",
    "\n",
    "Hvilken av de følgende påstandene er riktig om for- og while-løkker innen programmering? Velg riktig alternativ.\n",
    "\n",
    "- [] en for-løkke kan bare brukes med tallsekvenser\n",
    "- [] en while-løkke kjører alltid et bestemt antall ganger\n",
    "- [x] en for-løkke er best egnet når du vet hvor mange ganger du vil at løkken skal kjøre\n",
    "- [] en while-løkke kan ikke bruke en teller for å holde rede på hvor mange ganger den har kjørt"
   ]
  }
 ],
 "metadata": {
  "kernelspec": {
   "display_name": "Python 3",
   "language": "python",
   "name": "python3"
  },
  "language_info": {
   "codemirror_mode": {
    "name": "ipython",
    "version": 3
   },
   "file_extension": ".py",
   "mimetype": "text/x-python",
   "name": "python",
   "nbconvert_exporter": "python",
   "pygments_lexer": "ipython3",
   "version": "3.11.4"
  }
 },
 "nbformat": 4,
 "nbformat_minor": 2
}

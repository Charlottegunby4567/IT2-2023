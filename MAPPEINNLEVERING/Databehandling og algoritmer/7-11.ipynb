{
 "cells": [
  {
   "cell_type": "markdown",
   "metadata": {},
   "source": [
    "# Oppgaver databehandling og algoritmer\n",
    "\n",
    "## 2.7 - 2.11"
   ]
  },
  {
   "cell_type": "markdown",
   "metadata": {},
   "source": [
    "## Oppgave 2.7\n",
    "\n",
    "Hva er en while-løkke i programmering? (ett riktig svar)\n",
    "\n",
    "- [] en løkke som kjører et bestemt antall ganger\n",
    "- [] en løkke som kjører til en bestemt hendelse intreffer\n",
    "- [x] en løkke som kjører så lenge en bestemt betingelse er sann\n",
    "- [] en løkke som kjører så lenge en tilfeldig betingelse er sann\n"
   ]
  },
  {
   "cell_type": "markdown",
   "metadata": {},
   "source": [
    "## Oppgave 2.8\n",
    "\n",
    "Hvilken av de følgende påstandene er riktig om for- og while-løkker innen programmering? Velg riktig alternativ.\n",
    "\n",
    "- [] en for-løkke kan bare brukes med tallsekvenser\n",
    "- [] en while-løkke kjører alltid et bestemt antall ganger\n",
    "- [x] en for-løkke er best egnet når du vet hvor mange ganger du vil at løkken skal kjøre\n",
    "- [] en while-løkke kan ikke bruke en teller for å holde rede på hvor mange ganger den har kjørt"
   ]
  },
  {
   "cell_type": "markdown",
   "metadata": {},
   "source": [
    "## Oppgave 2.9\n",
    "\n",
    "1. Kopier listen med vinnere av gullballen 👇👇 inn i en python-fil og print ordboken til den første spilleren.\n",
    "2. Lag en for-løkke som printer navn og nasjonalitet på hver spiller.\n",
    "3. Utvid koden slik at for-løkken også printer antall gullballer spillerne har vunnet."
   ]
  },
  {
   "cell_type": "code",
   "execution_count": 2,
   "metadata": {},
   "outputs": [],
   "source": [
    "gullballen = [\n",
    "  {\n",
    "    \"navn\": \"Luís Figo\",\n",
    "    \"år\": [2000],\n",
    "    \"nasjonalitet\": \"Portugal\",\n",
    "    \"klubber\": [\"Real Madrid\"]\n",
    "  },\n",
    "  {\n",
    "    \"navn\": \"Michael Owen\",\n",
    "    \"år\": [2001],\n",
    "    \"nasjonalitet\": \"England\",\n",
    "    \"klubber\": [\"Liverpool\"]\n",
    "  },\n",
    "  {\n",
    "    \"navn\": \"Ronaldo\",\n",
    "    \"år\": [2002],\n",
    "    \"nasjonalitet\": \"Brasil\",\n",
    "    \"klubber\": [\"Real Madrid\"]\n",
    "  },\n",
    "  {\n",
    "    \"navn\": \"Pavel Nedvěd\",\n",
    "    \"år\": [2003],\n",
    "    \"nasjonalitet\": \"Tsjekkia\",\n",
    "    \"klubber\": [\"Juventus\"]\n",
    "  },\n",
    "  {\n",
    "    \"navn\": \"Andriy Shevchenko\",\n",
    "    \"år\": [2004],\n",
    "    \"nasjonalitet\": \"Ukraina\",\n",
    "    \"klubber\": [\"Milan\"]\n",
    "  },\n",
    "  {\n",
    "    \"navn\": \"Ronaldinho\",\n",
    "    \"år\": [2005],\n",
    "    \"nasjonalitet\": \"Brasil\",\n",
    "    \"klubber\": [\"Barcelona\"]\n",
    "  },\n",
    "  {\n",
    "    \"navn\": \"Fabio Cannavaro\",\n",
    "    \"år\": [2006],\n",
    "    \"nasjonalitet\": \"Italia\",\n",
    "    \"klubber\": [\"Real Madrid\"]\n",
    "  },\n",
    "  {\n",
    "    \"navn\": \"Kaká\",\n",
    "    \"år\": [2007],\n",
    "    \"nasjonalitet\": \"Brasil\",\n",
    "    \"klubber\": [\"Milan\"]\n",
    "  },\n",
    "  {\n",
    "    \"navn\": \"Cristiano Ronaldo\",\n",
    "    \"år\": [2008, 2013, 2014, 2016, 2017],\n",
    "    \"nasjonalitet\": \"Portugal\",\n",
    "    \"klubber\": [\"Manchester United\", \"Real Madrid\"]\n",
    "  },\n",
    "  {\n",
    "    \"navn\": \"Lionel Messi\",\n",
    "    \"år\": [2009, 2010, 2011, 2012, 2015, 2019, 2021, 2023],\n",
    "    \"nasjonalitet\": \"Argentina\",\n",
    "    \"klubber\": [\"Barcelona\", \"Paris Saint-Germain F.C.\", \"Inter Miami\"]\n",
    "  },\n",
    "  {\n",
    "    \"navn\": \"Luka Modric\",\n",
    "    \"år\": [2018],\n",
    "    \"nasjonalitet\": \"Kroatia\",\n",
    "    \"klubber\": [\"Real Madrid\"]\n",
    "  },\n",
    "  {\n",
    "    \"navn\": \"Karim Benzema\",\n",
    "    \"år\": [2022],\n",
    "    \"nasjonalitet\": \"Frankrike\",\n",
    "    \"klubber\": [\"Real Madrid\"]\n",
    "  }\n",
    "]"
   ]
  },
  {
   "cell_type": "code",
   "execution_count": 17,
   "metadata": {},
   "outputs": [
    {
     "name": "stdout",
     "output_type": "stream",
     "text": [
      "Ellipsis\n"
     ]
    }
   ],
   "source": [
    "## 1\n",
    "gullballen = [...]\n",
    "print(gullballen[0])"
   ]
  },
  {
   "cell_type": "code",
   "execution_count": 5,
   "metadata": {},
   "outputs": [
    {
     "ename": "SyntaxError",
     "evalue": "f-string: unmatched '[' (858174998.py, line 3)",
     "output_type": "error",
     "traceback": [
      "\u001b[0;36m  Cell \u001b[0;32mIn[5], line 3\u001b[0;36m\u001b[0m\n\u001b[0;31m    print(f\"{spiller[\"navn\"]} - {spiller[\"nasjonalitet\"]}\")\u001b[0m\n\u001b[0m                      ^\u001b[0m\n\u001b[0;31mSyntaxError\u001b[0m\u001b[0;31m:\u001b[0m f-string: unmatched '['\n"
     ]
    }
   ],
   "source": [
    "## 2\n",
    "for spiller in gullballen:\n",
    "  print(f\"{spiller[\"navn\"]} - {spiller[\"nasjonalitet\"]}\")"
   ]
  },
  {
   "cell_type": "code",
   "execution_count": 6,
   "metadata": {},
   "outputs": [
    {
     "ename": "SyntaxError",
     "evalue": "f-string: unmatched '[' (845894079.py, line 4)",
     "output_type": "error",
     "traceback": [
      "\u001b[0;36m  Cell \u001b[0;32mIn[6], line 4\u001b[0;36m\u001b[0m\n\u001b[0;31m    print(f\"{spiller[\"navn\"]} ({spiller[\"nasjonalitet\"]}) har vunnet {antall} ganger\")\u001b[0m\n\u001b[0m                      ^\u001b[0m\n\u001b[0;31mSyntaxError\u001b[0m\u001b[0;31m:\u001b[0m f-string: unmatched '['\n"
     ]
    }
   ],
   "source": [
    "## 3\n",
    "for spiller in gullballen:\n",
    "  antall = len(spiller[\"år\"])\n",
    "  print(f\"{spiller[\"navn\"]} ({spiller[\"nasjonalitet\"]}) har vunnet {antall} ganger\")"
   ]
  },
  {
   "cell_type": "code",
   "execution_count": 7,
   "metadata": {},
   "outputs": [],
   "source": [
    "gullballen = [\n",
    "  {\n",
    "    \"navn\": \"Luís Figo\",\n",
    "    \"år\": [2000],\n",
    "    \"nasjonalitet\": \"Portugal\",\n",
    "    \"klubber\": [\"Real Madrid\"]\n",
    "  },\n",
    "  {\n",
    "    \"navn\": \"Michael Owen\",\n",
    "    \"år\": [2001],\n",
    "    \"nasjonalitet\": \"England\",\n",
    "    \"klubber\": [\"Liverpool\"]\n",
    "  },\n",
    "  {\n",
    "    \"navn\": \"Ronaldo\",\n",
    "    \"år\": [2002],\n",
    "    \"nasjonalitet\": \"Brasil\",\n",
    "    \"klubber\": [\"Real Madrid\"]\n",
    "  },\n",
    "  {\n",
    "    \"navn\": \"Pavel Nedvěd\",\n",
    "    \"år\": [2003],\n",
    "    \"nasjonalitet\": \"Tsjekkia\",\n",
    "    \"klubber\": [\"Juventus\"]\n",
    "  },\n",
    "  {\n",
    "    \"navn\": \"Andriy Shevchenko\",\n",
    "    \"år\": [2004],\n",
    "    \"nasjonalitet\": \"Ukraina\",\n",
    "    \"klubber\": [\"Milan\"]\n",
    "  },\n",
    "  {\n",
    "    \"navn\": \"Ronaldinho\",\n",
    "    \"år\": [2005],\n",
    "    \"nasjonalitet\": \"Brasil\",\n",
    "    \"klubber\": [\"Barcelona\"]\n",
    "  },\n",
    "  {\n",
    "    \"navn\": \"Fabio Cannavaro\",\n",
    "    \"år\": [2006],\n",
    "    \"nasjonalitet\": \"Italia\",\n",
    "    \"klubber\": [\"Real Madrid\"]\n",
    "  },\n",
    "  {\n",
    "    \"navn\": \"Kaká\",\n",
    "    \"år\": [2007],\n",
    "    \"nasjonalitet\": \"Brasil\",\n",
    "    \"klubber\": [\"Milan\"]\n",
    "  },\n",
    "  {\n",
    "    \"navn\": \"Cristiano Ronaldo\",\n",
    "    \"år\": [2008, 2013, 2014, 2016, 2017],\n",
    "    \"nasjonalitet\": \"Portugal\",\n",
    "    \"klubber\": [\"Manchester United\", \"Real Madrid\"]\n",
    "  },\n",
    "  {\n",
    "    \"navn\": \"Lionel Messi\",\n",
    "    \"år\": [2009, 2010, 2011, 2012, 2015, 2019, 2021, 2023],\n",
    "    \"nasjonalitet\": \"Argentina\",\n",
    "    \"klubber\": [\"Barcelona\", \"Paris Saint-Germain F.C.\", \"Inter Miami\"]\n",
    "  },\n",
    "  {\n",
    "    \"navn\": \"Luka Modric\",\n",
    "    \"år\": [2018],\n",
    "    \"nasjonalitet\": \"Kroatia\",\n",
    "    \"klubber\": [\"Real Madrid\"]\n",
    "  },\n",
    "  {\n",
    "    \"navn\": \"Karim Benzema\",\n",
    "    \"år\": [2022],\n",
    "    \"nasjonalitet\": \"Frankrike\",\n",
    "    \"klubber\": [\"Real Madrid\"]\n",
    "  }\n",
    "]"
   ]
  },
  {
   "cell_type": "code",
   "execution_count": null,
   "metadata": {},
   "outputs": [],
   "source": []
  },
  {
   "cell_type": "markdown",
   "metadata": {},
   "source": [
    "## Oppgave 2.10\n",
    "\n",
    "1. Kopier listen med informasjon over de 30 mest fulgte Instagram-kontoene 👇👇 inn i en python-fil.\n",
    "2. Hvor mange følgere har kontoene på listen i gjennomsnitt?\n",
    "3. Hvor mange kontoer på listen kommer ikke fra USA?"
   ]
  },
  {
   "cell_type": "code",
   "execution_count": 8,
   "metadata": {},
   "outputs": [],
   "source": [
    "top_30 = [\n",
    "    {\"name\": \"Cristiano Ronaldo\", \"account\": \"@cristiano\", \"followers\": 617.16, \"nationality\": \"Portugal\"},\n",
    "    {\"name\": \"Leo Messi\", \"account\": \"@leomessi\", \"followers\": 497.05, \"nationality\": \"Argentina\"},\n",
    "    {\"name\": \"Selena Gomez\", \"account\": \"@selenagomez\", \"followers\": 429.66, \"nationality\": \"United States\"},\n",
    "    {\"name\": \"Kylie Jenner\", \"account\": \"@kyliejenner\", \"followers\": 399.45, \"nationality\": \"United States\"},\n",
    "    {\"name\": \"Dwayne Johnson\", \"account\": \"@therock\", \"followers\": 395.59, \"nationality\": \"United States\"},\n",
    "    {\"name\": \"Ariana Grande\", \"account\": \"@arianagrande\", \"followers\": 380.78, \"nationality\": \"United States\"},\n",
    "    {\"name\": \"Kim Kardashian\", \"account\": \"@kimkardashian\", \"followers\": 364, \"nationality\": \"United States\"},\n",
    "    {\"name\": \"Beyoncé\", \"account\": \"@beyonce\", \"followers\": 319.6, \"nationality\": \"United States\"},\n",
    "    {\"name\": \"Khloé Kardashian\", \"account\": \"@khloekardashian\", \"followers\": 311.3, \"nationality\": \"United States\"},\n",
    "    {\"name\": \"Nike\", \"account\": \"@nike\", \"followers\": 306, \"nationality\": \"United States\"},\n",
    "    {\"name\": \"Justin Bieber\", \"account\": \"@justinbieber\", \"followers\": 304.9, \"nationality\": \"Canada\"},\n",
    "    {\"name\": \"Taylor Swift\", \"account\": \"@taylorswift\", \"followers\": 282.8, \"nationality\": \"United States\"},\n",
    "    {\"name\": \"Neymar Jr\", \"account\": \"@neymarjr\", \"followers\": 282.7, \"nationality\": \"Brazil\"},\n",
    "    {\"name\": \"Kendall Jenner\", \"account\": \"@kendalljenner\", \"followers\": 279.9, \"nationality\": \"United States\"},\n",
    "    {\"name\": \"Jennifer Lopez\", \"account\": \"@jlo\", \"followers\": 277.2, \"nationality\": \"United States\"},\n",
    "    {\"name\": \"Nicki Minaj\", \"account\": \"@nickiminaj\", \"followers\": 262.5, \"nationality\": \"Trinidad and Tobago\"},\n",
    "    {\"name\": \"National Geographic\", \"account\": \"@natgeo\", \"followers\": 206.9, \"nationality\": \"United States\"},\n",
    "    {\"name\": \"Lionel Andrés Messi Cuccittini\", \"account\": \"@leomessi10\", \"followers\": 201.8, \"nationality\": \"Argentina\"},\n",
    "    {\"name\": \"Miley Cyrus\", \"account\": \"@mileycyrus\", \"followers\": 198.7, \"nationality\": \"United States\"},\n",
    "    {\"name\": \"Katy Perry\", \"account\": \"@katyperry\", \"followers\": 198.4, \"nationality\": \"United States\"},\n",
    "    {\"name\": \"Kourtney Kardashian\", \"account\": \"@kourtneykardash\", \"followers\": 196.8, \"nationality\": \"United States\"},\n",
    "    {\"name\": \"Kevin Hart\", \"account\": \"@kevinhart4real\", \"followers\": 195.8, \"nationality\": \"United States\"},\n",
    "    {\"name\": \"Ellen DeGeneres\", \"account\": \"@theellenshow\", \"followers\": 194.7, \"nationality\": \"United States\"},\n",
    "    {\"name\": \"Virat Kohli\", \"account\": \"@virat.kohli\", \"followers\": 194.5, \"nationality\": \"India\"},\n",
    "    {\"name\": \"Billie Eilish\", \"account\": \"@billieeilish\", \"followers\": 193.9, \"nationality\": \"United States\"},\n",
    "    {\"name\": \"Rihanna\", \"account\": \"@badgalriri\", \"followers\": 191.5, \"nationality\": \"Barbados\"},\n",
    "    {\"name\": \"Zendaya\", \"account\": \"@zendaya\", \"followers\": 190.9, \"nationality\": \"United States\"},\n",
    "    {\"name\": \"Drake\", \"account\": \"@champagnepapi\", \"followers\": 190.8, \"nationality\": \"Canada\"},\n",
    "    {\"name\": \"Emma Watson\", \"account\": \"@emmawatson\", \"followers\": 189.7, \"nationality\": \"United Kingdom\"},\n",
    "    {\"name\": \"LeBron James\", \"account\": \"@kingjames\", \"followers\": 188.8, \"nationality\": \"United States\"}\n",
    "]\n"
   ]
  },
  {
   "cell_type": "code",
   "execution_count": 9,
   "metadata": {},
   "outputs": [],
   "source": [
    "## 1\n",
    "topp_30 = []"
   ]
  },
  {
   "cell_type": "code",
   "execution_count": 12,
   "metadata": {},
   "outputs": [
    {
     "ename": "ZeroDivisionError",
     "evalue": "division by zero",
     "output_type": "error",
     "traceback": [
      "\u001b[0;31m---------------------------------------------------------------------------\u001b[0m",
      "\u001b[0;31mZeroDivisionError\u001b[0m                         Traceback (most recent call last)",
      "Cell \u001b[0;32mIn[12], line 5\u001b[0m\n\u001b[1;32m      3\u001b[0m \u001b[38;5;28;01mfor\u001b[39;00m konto \u001b[38;5;129;01min\u001b[39;00m topp_30:\n\u001b[1;32m      4\u001b[0m   antall_følgere \u001b[38;5;241m+\u001b[39m\u001b[38;5;241m=\u001b[39m konto[\u001b[38;5;124m'\u001b[39m\u001b[38;5;124mfollowers\u001b[39m\u001b[38;5;124m'\u001b[39m]\n\u001b[0;32m----> 5\u001b[0m snitt \u001b[38;5;241m=\u001b[39m \u001b[43mantall_følgere\u001b[49m\u001b[43m \u001b[49m\u001b[38;5;241;43m/\u001b[39;49m\u001b[43m \u001b[49m\u001b[38;5;28;43mlen\u001b[39;49m\u001b[43m(\u001b[49m\u001b[43mtopp_30\u001b[49m\u001b[43m)\u001b[49m\n\u001b[1;32m      6\u001b[0m \u001b[38;5;28mprint\u001b[39m(\u001b[38;5;124mf\u001b[39m\u001b[38;5;124m\"\u001b[39m\u001b[38;5;124mAntall følgere i gjennomsnitt: \u001b[39m\u001b[38;5;132;01m{\u001b[39;00msnitt\u001b[38;5;132;01m}\u001b[39;00m\u001b[38;5;124m\"\u001b[39m)\n",
      "\u001b[0;31mZeroDivisionError\u001b[0m: division by zero"
     ]
    }
   ],
   "source": [
    "##2\n",
    "antall_følgere = 0\n",
    "for konto in topp_30:\n",
    "  antall_følgere += konto['followers']\n",
    "snitt = antall_følgere / len(topp_30)\n",
    "print(f\"Antall følgere i gjennomsnitt: {snitt}\")"
   ]
  },
  {
   "cell_type": "code",
   "execution_count": null,
   "metadata": {},
   "outputs": [],
   "source": [
    "## 3\n",
    "ikke_fra_usa = 0\n",
    "for konto in topp_30:\n",
    "  if konto['nationality'] != \"United States\":\n",
    "    ikke_fra_usa += 1\n",
    "print(f\"Antall kontoer som ikke er fra USA: {ikke_fra_usa}\")"
   ]
  },
  {
   "cell_type": "markdown",
   "metadata": {},
   "source": [
    "## Oppgave 2.11\n",
    "\n",
    "1. Kopier listen med informasjon over de 30 mest befolkede land 👇👇 inn i en python-fil og print ordboken til Argentina.\n",
    "2. Lag en for-løkke som printer navn, hovedstad og antall språk for hvert land.\n",
    "3. Hvilket land har flest språk?\n",
    "4. Lag en ordbok som holder oversikt over språk og antall land som har språket som offisielt språk.\n",
    "\n",
    "- Tips: Språk er en liste - du burde bruke en for-løkke som går gjennom språk inne i for-løkken for land.\n",
    "- Sorter ordboken og print ut språket med flest land og antall land.\n"
   ]
  },
  {
   "cell_type": "code",
   "execution_count": 14,
   "metadata": {},
   "outputs": [],
   "source": [
    "land_info = [\n",
    "    {\"land\": \"Kina\", \"hovedstad\": \"Beijing\", \"befolkning\": 1410000000, \"språk\": [\"Mandarin\"]},\n",
    "    {\"land\": \"India\", \"hovedstad\": \"New Delhi\", \"befolkning\": 1390000000, \"språk\": [\"Hindi\", \"Engelsk\"]},\n",
    "    {\"land\": \"USA\", \"hovedstad\": \"Washington, D.C.\", \"befolkning\": 331000000, \"språk\": [\"Engelsk\"]},\n",
    "    {\"land\": \"Indonesia\", \"hovedstad\": \"Jakarta\", \"befolkning\": 273000000, \"språk\": [\"Indonesisk\"]},\n",
    "    {\"land\": \"Pakistan\", \"hovedstad\": \"Islamabad\", \"befolkning\": 225000000, \"språk\": [\"Urdu\", \"Engelsk\"]},\n",
    "    {\"land\": \"Brasil\", \"hovedstad\": \"Brasília\", \"befolkning\": 213000000, \"språk\": [\"Portugisisk\"]},\n",
    "    {\"land\": \"Nigeria\", \"hovedstad\": \"Abuja\", \"befolkning\": 211000000, \"språk\": [\"Engelsk\"]},\n",
    "    {\"land\": \"Bangladesh\", \"hovedstad\": \"Dhaka\", \"befolkning\": 166000000, \"språk\": [\"Bengali\"]},\n",
    "    {\"land\": \"Russland\", \"hovedstad\": \"Moskva\", \"befolkning\": 146000000, \"språk\": [\"Russisk\"]},\n",
    "    {\"land\": \"Mexico\", \"hovedstad\": \"Mexico City\", \"befolkning\": 128000000, \"språk\": [\"Spansk\"]},\n",
    "    {\"land\": \"Japan\", \"hovedstad\": \"Tokyo\", \"befolkning\": 125000000, \"språk\": [\"Japansk\"]},\n",
    "    {\"land\": \"Etiopia\", \"hovedstad\": \"Addis Ababa\", \"befolkning\": 118000000, \"språk\": [\"Amharisk\"]},\n",
    "    {\"land\": \"Filippinene\", \"hovedstad\": \"Manila\", \"befolkning\": 113000000, \"språk\": [\"Filippinsk\"]},\n",
    "    {\"land\": \"Egypt\", \"hovedstad\": \"Kairo\", \"befolkning\": 104000000, \"språk\": [\"Arabisk\"]},\n",
    "    {\"land\": \"Vietnam\", \"hovedstad\": \"Hanoi\", \"befolkning\": 97400000, \"språk\": [\"Vietnamesisk\"]},\n",
    "    {\"land\": \"DR Kongo\", \"hovedstad\": \"Kinshasa\", \"befolkning\": 90000000, \"språk\": [\"Fransk\"]},\n",
    "    {\"land\": \"Turkey\", \"hovedstad\": \"Ankara\", \"befolkning\": 83700000, \"språk\": [\"Tyrkisk\"]},\n",
    "    {\"land\": \"Iran\", \"hovedstad\": \"Teheran\", \"befolkning\": 83700000, \"språk\": [\"Persisk\"]},\n",
    "    {\"land\": \"Tyskland\", \"hovedstad\": \"Berlin\", \"befolkning\": 83000000, \"språk\": [\"Tysk\"]},\n",
    "    {\"land\": \"Thailand\", \"hovedstad\": \"Bangkok\", \"befolkning\": 70000000, \"språk\": [\"Thai\"]},\n",
    "    {\"land\": \"Frankrike\", \"hovedstad\": \"Paris\", \"befolkning\": 67000000, \"språk\": [\"Fransk\"]},\n",
    "    {\"land\": \"Storbritannia\", \"hovedstad\": \"London\", \"befolkning\": 67000000, \"språk\": [\"Engelsk\"]},\n",
    "    {\"land\": \"Italia\", \"hovedstad\": \"Roma\", \"befolkning\": 60300000, \"språk\": [\"Italiensk\"]},\n",
    "    {\"land\": \"Sør-Afrika\", \"hovedstad\": \"Pretoria, Cape Town, Bloemfontein\", \"befolkning\": 60000000,\n",
    "     \"språk\": [\"Afrikaans\", \"Engelsk\", \"isiNdebele\", \"isiXhosa\", \"isiZulu\", \"sesotho\", \"Setswana\", \"siSwati\", \"Tshivenda\", \"Xitsonga\"]},\n",
    "    {\"land\": \"Myanmar\", \"hovedstad\": \"Naypyidaw\", \"befolkning\": 54400000, \"språk\": [\"Burmese\"]},\n",
    "    {\"land\": \"Sør-Korea\", \"hovedstad\": \"Seoul\", \"befolkning\": 51700000, \"språk\": [\"Koreansk\"]},\n",
    "    {\"land\": \"Colombia\", \"hovedstad\": \"Bogotá\", \"befolkning\": 50300000, \"språk\": [\"Spansk\"]},\n",
    "    {\"land\": \"Kenya\", \"hovedstad\": \"Nairobi\", \"befolkning\": 49000000, \"språk\": [\"Swahili\", \"Engelsk\"]},\n",
    "    {\"land\": \"Spania\", \"hovedstad\": \"Madrid\", \"befolkning\": 47000000, \"språk\": [\"Spansk\"]},\n",
    "    {\"land\": \"Argentina\", \"hovedstad\": \"Buenos Aires\", \"befolkning\": 45000000, \"språk\": [\"Spansk\"]},\n",
    "]"
   ]
  },
  {
   "cell_type": "code",
   "execution_count": 15,
   "metadata": {},
   "outputs": [
    {
     "name": "stdout",
     "output_type": "stream",
     "text": [
      "Ellipsis\n"
     ]
    }
   ],
   "source": [
    "## 1\n",
    "land_info = [ ... ]\n",
    "print(land_info[-1]) \n",
    "# argentina er det siste landet i listen, det kan hentes ut med -1"
   ]
  },
  {
   "cell_type": "code",
   "execution_count": 16,
   "metadata": {},
   "outputs": [
    {
     "ename": "TypeError",
     "evalue": "'ellipsis' object is not subscriptable",
     "output_type": "error",
     "traceback": [
      "\u001b[0;31m---------------------------------------------------------------------------\u001b[0m",
      "\u001b[0;31mTypeError\u001b[0m                                 Traceback (most recent call last)",
      "Cell \u001b[0;32mIn[16], line 3\u001b[0m\n\u001b[1;32m      1\u001b[0m \u001b[38;5;66;03m## 2\u001b[39;00m\n\u001b[1;32m      2\u001b[0m \u001b[38;5;28;01mfor\u001b[39;00m land \u001b[38;5;129;01min\u001b[39;00m land_info:\n\u001b[0;32m----> 3\u001b[0m     \u001b[38;5;28mprint\u001b[39m(\u001b[38;5;124mf\u001b[39m\u001b[38;5;124m\"\u001b[39m\u001b[38;5;124mland: \u001b[39m\u001b[38;5;132;01m{\u001b[39;00m\u001b[43mland\u001b[49m\u001b[43m[\u001b[49m\u001b[38;5;124;43m'\u001b[39;49m\u001b[38;5;124;43mland\u001b[39;49m\u001b[38;5;124;43m'\u001b[39;49m\u001b[43m]\u001b[49m\u001b[38;5;132;01m}\u001b[39;00m\u001b[38;5;124m, hovedstad: \u001b[39m\u001b[38;5;132;01m{\u001b[39;00mland[\u001b[38;5;124m'\u001b[39m\u001b[38;5;124mhovedstad\u001b[39m\u001b[38;5;124m'\u001b[39m]\u001b[38;5;132;01m}\u001b[39;00m\u001b[38;5;124m, antall språk: \u001b[39m\u001b[38;5;132;01m{\u001b[39;00m\u001b[38;5;28mlen\u001b[39m(land[\u001b[38;5;124m'\u001b[39m\u001b[38;5;124mspråk\u001b[39m\u001b[38;5;124m'\u001b[39m])\u001b[38;5;132;01m}\u001b[39;00m\u001b[38;5;124m\"\u001b[39m)\n",
      "\u001b[0;31mTypeError\u001b[0m: 'ellipsis' object is not subscriptable"
     ]
    }
   ],
   "source": [
    "## 2\n",
    "for land in land_info:\n",
    "    print(f\"land: {land['land']}, hovedstad: {land['hovedstad']}, antall språk: {len(land['språk'])}\")"
   ]
  },
  {
   "cell_type": "code",
   "execution_count": null,
   "metadata": {},
   "outputs": [],
   "source": [
    "## 3\n",
    "flest_språk = land_info[0]\n",
    "for land in land_info:\n",
    "    if len(land['språk']) > len(flest_språk['språk']):\n",
    "        flest_språk = land\n",
    "print(f\"Landet med flest språk er {flest_språk['land']} som har {len(flest_språk['språk'])} språk\")"
   ]
  },
  {
   "cell_type": "code",
   "execution_count": null,
   "metadata": {},
   "outputs": [],
   "source": [
    "## 4\n",
    "språk_antall_land = {} # en tom ordbok som skal fylles med nasjonaliteter\n",
    " \n",
    "for land in land_info:\n",
    "    for språk in land['språk']:\n",
    "        if språk in språk_antall_land:\n",
    "            språk_antall_land[språk] += 1\n",
    "        else:\n",
    "            språk_antall_land[språk] = 1\n",
    " \n",
    "print(språk_antall_land)"
   ]
  },
  {
   "cell_type": "code",
   "execution_count": null,
   "metadata": {},
   "outputs": [],
   "source": [
    "## 5\n",
    "språk_sortert = sorted(språk_antall_land.items(), key=lambda språk:språk[1]) # sorterer listen i stigende rekkefølge\n",
    "print(språk_sortert[-1][0], språk_sortert[-1][1]) # språket med flest antall land er det siste i listen\n",
    "\n"
   ]
  }
 ],
 "metadata": {
  "kernelspec": {
   "display_name": "Python 3",
   "language": "python",
   "name": "python3"
  },
  "language_info": {
   "codemirror_mode": {
    "name": "ipython",
    "version": 3
   },
   "file_extension": ".py",
   "mimetype": "text/x-python",
   "name": "python",
   "nbconvert_exporter": "python",
   "pygments_lexer": "ipython3",
   "version": "3.11.4"
  }
 },
 "nbformat": 4,
 "nbformat_minor": 2
}

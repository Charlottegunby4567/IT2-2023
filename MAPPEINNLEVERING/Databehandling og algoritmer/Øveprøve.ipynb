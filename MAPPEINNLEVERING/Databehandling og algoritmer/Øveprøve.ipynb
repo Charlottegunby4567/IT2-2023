{
 "cells": [
  {
   "cell_type": "markdown",
   "metadata": {},
   "source": [
    "# Øveprøve - Databehandling og algoritmer"
   ]
  },
  {
   "cell_type": "code",
   "execution_count": null,
   "metadata": {},
   "outputs": [],
   "source": [
    "## Oppgave 1.1\n",
    "\n",
    "hallo = [{\"b\":[4,3,5], \"a\":[0]}, [\"hei\", \"hallo\"]]\n",
    "print(hallo[1][1][1])\n",
    "\n",
    "# Hva printes: "
   ]
  },
  {
   "cell_type": "code",
   "execution_count": null,
   "metadata": {},
   "outputs": [],
   "source": [
    "## Oppgave 1.2\n",
    "\n",
    "hallo = [{\"b\":[4,3,5], \"a\":[0]}, [\"hei\", \"hallo\"]]\n",
    "for i in hallo[1]:\n",
    "    print(i)\n",
    "\n",
    "# Hva printes: "
   ]
  },
  {
   "cell_type": "code",
   "execution_count": null,
   "metadata": {},
   "outputs": [],
   "source": [
    "## Oppgave 1.3\n",
    "\n",
    "hallo = [{\"b\":[4,3,5], \"a\":[0]}, [\"hei\", \"hallo\"]]\n",
    "for i in hallo[1][1]:\n",
    "    print(i)\n",
    "\n",
    "# Hva printes:\n",
    "    "
   ]
  },
  {
   "cell_type": "code",
   "execution_count": null,
   "metadata": {},
   "outputs": [],
   "source": [
    "## Oppgave 1.4\n",
    "\n",
    "a = {\"a\": [1,2,-1], \"b\": [9, -9, 1]}\n",
    "print(max(a[\"b\"]))\n",
    "\n",
    "# Hva printes:"
   ]
  },
  {
   "cell_type": "code",
   "execution_count": null,
   "metadata": {},
   "outputs": [],
   "source": [
    "## Oppgave 1.5\n",
    "\n",
    "representanter = [\n",
    "    {\n",
    "        \"etternavn\": \"Støre\",\n",
    "        \"foedselsdato\": \"25.08.1960\"\n",
    "        \"fornavn\": \"Jonas Gahr\",\n",
    "        \"id\": \"JGS\",\n",
    "        \"kjoenn\": 2,\n",
    "        \"fylke\": {\n",
    "            \"id\": \"Os\",\n",
    "            \"navn\": \"Oslo\"\n",
    "        },\n",
    "        \"parti\": {\n",
    "            \"id\": \"A\",\n",
    "            \"navn\": \"Arbeiderpartiet\",\n",
    "            \"representert_parti\": True\n",
    "        }\n",
    "    },\n",
    "    {\n",
    "        \"etternavn\": \"Solberg\",\n",
    "        \"foedselsdato\": \"24.02.1961\",\n",
    "        \"fornavn\": \"Erna\",\n",
    "        \"id\": \"ES\",\n",
    "        \"kjoenn\": 1,\n",
    "        \"fylke\": {\n",
    "            \"historisk_fylke\": False,\n",
    "            \"id\": \"Ho\",\n",
    "            \"navn\": \"Hordaland\"\n",
    "        },\n",
    "        \"parti\": {\n",
    "            \"id\": \"H\",\n",
    "            \"navn\": \"Høyre\",\n",
    "            \"representert_parti\": True\n",
    "        }\n",
    "    }\n",
    "]\n",
    "\n",
    "# a. Print Jonas Gahr Støres fødselsdag i terminalen:\n",
    "\n",
    "# b. Print Erna Solbergs fylke i terminalen\n",
    "\n",
    "# c. Hva er resultatet av følgende kode?\n",
    "\n",
    "# d. Skriv en kode som bruker en for-løkke for å printe begge representantenes etternavn\n",
    "\n"
   ]
  },
  {
   "cell_type": "code",
   "execution_count": null,
   "metadata": {},
   "outputs": [],
   "source": [
    "## Oppgave 2.1\n",
    "\n",
    "høyest = liste[0]\n",
    "for tall in liste:\n",
    "    if tall > høyest:\n",
    "        høyest = tall\n",
    "print(høyest)\n",
    "\n",
    "# Skriv koden som psuedo kode\n",
    "\n",
    "SET høyest TO første tall i liste\n",
    "FOR hvert tall IN liste:\n",
    "    IF tall GREATER THAN høyest\n",
    "        SET høyest TO tall\n",
    "    ENDIF\n",
    "ENDFOR"
   ]
  },
  {
   "cell_type": "code",
   "execution_count": null,
   "metadata": {},
   "outputs": [],
   "source": [
    "## Oppgave 2.2\n",
    "\n",
    "SET x TO 5\n",
    "SET y TO 2\n",
    "WHILE x GREATER THAN y\n",
    "  DISPLAY x\n",
    "  DISPLAY y\n",
    "  DECREMENT x BY 1\n",
    "  INCREMENT y BY 1\n",
    "ENDWHILE\n",
    "\n",
    "\n",
    "# Hva printes?\n",
    "\n",
    "5\n",
    "2\n",
    "4\n",
    "3"
   ]
  }
 ],
 "metadata": {
  "kernelspec": {
   "display_name": "Python 3",
   "language": "python",
   "name": "python3"
  },
  "language_info": {
   "name": "python",
   "version": "3.11.4"
  }
 },
 "nbformat": 4,
 "nbformat_minor": 2
}

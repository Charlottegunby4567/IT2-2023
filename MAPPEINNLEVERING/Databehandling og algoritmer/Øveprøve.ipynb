{
 "cells": [
  {
   "cell_type": "markdown",
   "metadata": {},
   "source": [
    "# Øveprøve - Databehandling og algoritmer"
   ]
  },
  {
   "cell_type": "code",
   "execution_count": 1,
   "metadata": {},
   "outputs": [
    {
     "name": "stdout",
     "output_type": "stream",
     "text": [
      "a\n"
     ]
    }
   ],
   "source": [
    "## Oppgave 1.1\n",
    "\n",
    "hallo = [{\"b\":[4,3,5], \"a\":[0]}, [\"hei\", \"hallo\"]]\n",
    "print(hallo[1][1][1])\n",
    "\n",
    "# Hva printes: \n",
    "# a"
   ]
  },
  {
   "cell_type": "code",
   "execution_count": 2,
   "metadata": {},
   "outputs": [
    {
     "name": "stdout",
     "output_type": "stream",
     "text": [
      "hei\n",
      "hallo\n"
     ]
    }
   ],
   "source": [
    "## Oppgave 1.2\n",
    "\n",
    "hallo = [{\"b\":[4,3,5], \"a\":[0]}, [\"hei\", \"hallo\"]]\n",
    "for i in hallo[1]:\n",
    "    print(i)\n",
    "\n",
    "# Hva printes: \n",
    "    # hei og hallo"
   ]
  },
  {
   "cell_type": "code",
   "execution_count": 3,
   "metadata": {},
   "outputs": [
    {
     "name": "stdout",
     "output_type": "stream",
     "text": [
      "h\n",
      "a\n",
      "l\n",
      "l\n",
      "o\n"
     ]
    }
   ],
   "source": [
    "## Oppgave 1.3\n",
    "\n",
    "hallo = [{\"b\":[4,3,5], \"a\":[0]}, [\"hei\", \"hallo\"]]\n",
    "for i in hallo[1][1]:\n",
    "    print(i)\n",
    "\n",
    "# Hva printes:\n",
    "    # h\n",
    "    # a\n",
    "    # l\n",
    "    # l\n",
    "    # o\n",
    "    "
   ]
  },
  {
   "cell_type": "code",
   "execution_count": 4,
   "metadata": {},
   "outputs": [
    {
     "name": "stdout",
     "output_type": "stream",
     "text": [
      "9\n"
     ]
    }
   ],
   "source": [
    "## Oppgave 1.4\n",
    "\n",
    "a = {\"a\": [1,2,-1], \"b\": [9, -9, 1]}\n",
    "print(max(a[\"b\"]))\n",
    "\n",
    "# Hva printes:\n",
    "# 9 "
   ]
  },
  {
   "cell_type": "code",
   "execution_count": 5,
   "metadata": {},
   "outputs": [
    {
     "name": "stdout",
     "output_type": "stream",
     "text": [
      "Jonas Gahr Støres fødselsdag: 25.08.1960\n",
      "Erna Solbergs fylke: Hordaland\n",
      "Støre\n",
      "Solberg\n"
     ]
    }
   ],
   "source": [
    "## Oppgave 1.5\n",
    "\n",
    "representanter = [\n",
    "    {\n",
    "        \"etternavn\": \"Støre\",\n",
    "        \"foedselsdato\": \"25.08.1960\",\n",
    "        \"fornavn\": \"Jonas Gahr\",\n",
    "        \"id\": \"JGS\",\n",
    "        \"kjoenn\": 2,\n",
    "        \"fylke\": {\n",
    "            \"id\": \"Os\",\n",
    "            \"navn\": \"Oslo\"\n",
    "        },\n",
    "        \"parti\": {\n",
    "            \"id\": \"A\",\n",
    "            \"navn\": \"Arbeiderpartiet\",\n",
    "            \"representert_parti\": True\n",
    "        }\n",
    "    },\n",
    "    {\n",
    "        \"etternavn\": \"Solberg\",\n",
    "        \"foedselsdato\": \"24.02.1961\",\n",
    "        \"fornavn\": \"Erna\",\n",
    "        \"id\": \"ES\",\n",
    "        \"kjoenn\": 1,\n",
    "        \"fylke\": {\n",
    "            \"historisk_fylke\": False,\n",
    "            \"id\": \"Ho\",\n",
    "            \"navn\": \"Hordaland\"\n",
    "        },\n",
    "        \"parti\": {\n",
    "            \"id\": \"H\",\n",
    "            \"navn\": \"Høyre\",\n",
    "            \"representert_parti\": True\n",
    "        }\n",
    "    }\n",
    "]\n",
    "\n",
    "# a. Print Jonas Gahr Støres fødselsdag i terminalen:\n",
    "\n",
    "for representant in representanter:\n",
    "    if representant[\"fornavn\"] == \"Jonas Gahr\":\n",
    "        print(\"Jonas Gahr Støres fødselsdag:\", representant[\"foedselsdato\"])\n",
    "\n",
    "\n",
    "# b. Print Erna Solbergs fylke i terminalen\n",
    "        \n",
    "for representant in representanter:\n",
    "    if representant[\"fornavn\"] == \"Erna\":\n",
    "        print(\"Erna Solbergs fylke:\", representant[\"fylke\"][\"navn\"])\n",
    "\n",
    "\n",
    "# c. Hva er resultatet av følgende kode?\n",
    "# skjønner ikke spm\n",
    "    \n",
    "\n",
    "# d. Skriv en kode som bruker en for-løkke for å printe begge representantenes etternavn\n",
    "\n",
    "for representant in representanter:\n",
    "    print(representant[\"etternavn\"])\n"
   ]
  },
  {
   "cell_type": "code",
   "execution_count": 6,
   "metadata": {},
   "outputs": [
    {
     "ename": "IndexError",
     "evalue": "list index out of range",
     "output_type": "error",
     "traceback": [
      "\u001b[0;31m---------------------------------------------------------------------------\u001b[0m",
      "\u001b[0;31mIndexError\u001b[0m                                Traceback (most recent call last)",
      "Cell \u001b[0;32mIn[6], line 5\u001b[0m\n\u001b[1;32m      1\u001b[0m \u001b[38;5;66;03m## Oppgave 2.1\u001b[39;00m\n\u001b[1;32m      3\u001b[0m liste \u001b[38;5;241m=\u001b[39m []\n\u001b[0;32m----> 5\u001b[0m høyest \u001b[38;5;241m=\u001b[39m \u001b[43mliste\u001b[49m\u001b[43m[\u001b[49m\u001b[38;5;241;43m0\u001b[39;49m\u001b[43m]\u001b[49m\n\u001b[1;32m      6\u001b[0m \u001b[38;5;28;01mfor\u001b[39;00m tall \u001b[38;5;129;01min\u001b[39;00m liste:\n\u001b[1;32m      7\u001b[0m     \u001b[38;5;28;01mif\u001b[39;00m tall \u001b[38;5;241m>\u001b[39m høyest:\n",
      "\u001b[0;31mIndexError\u001b[0m: list index out of range"
     ]
    }
   ],
   "source": [
    "## Oppgave 2.1\n",
    "\n",
    "liste = []\n",
    "\n",
    "høyest = liste[0]\n",
    "for tall in liste:\n",
    "    if tall > høyest:\n",
    "        høyest = tall\n",
    "print(høyest)\n",
    "\n",
    "# Skriv koden som psuedo kode\n",
    "\n",
    "# SET høyest TO første tall i liste\n",
    "# FOR hvert tall IN liste:\n",
    "#    IF tall GREATER THAN høyest\n",
    "#        SET høyest TO tall\n",
    "#   ENDIF\n",
    "# ENDFOR"
   ]
  },
  {
   "cell_type": "code",
   "execution_count": null,
   "metadata": {},
   "outputs": [],
   "source": [
    "## Oppgave 2.2\n",
    "\n",
    "# SET x TO 5\n",
    "# SET y TO 2\n",
    "# WHILE x GREATER THAN y\n",
    "# DISPLAY x\n",
    "#  DISPLAY y\n",
    "#  DECREMENT x BY 1\n",
    "#  INCREMENT y BY 1\n",
    "# ENDWHILE\n",
    "\n",
    "\n",
    "# Hva printes?\n",
    "\n",
    "5\n",
    "2\n",
    "4\n",
    "3"
   ]
  }
 ],
 "metadata": {
  "kernelspec": {
   "display_name": "Python 3",
   "language": "python",
   "name": "python3"
  },
  "language_info": {
   "codemirror_mode": {
    "name": "ipython",
    "version": 3
   },
   "file_extension": ".py",
   "mimetype": "text/x-python",
   "name": "python",
   "nbconvert_exporter": "python",
   "pygments_lexer": "ipython3",
   "version": "3.11.4"
  }
 },
 "nbformat": 4,
 "nbformat_minor": 2
}

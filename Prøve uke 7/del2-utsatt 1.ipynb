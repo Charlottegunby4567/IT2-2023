{
 "cells": [
  {
   "cell_type": "markdown",
   "metadata": {},
   "source": [
    "# Del 2 - Med hjelpemidler\n",
    "> Utsatt prøve"
   ]
  },
  {
   "cell_type": "markdown",
   "metadata": {},
   "source": [
    "## Oppgave 3"
   ]
  },
  {
   "cell_type": "code",
   "execution_count": 25,
   "metadata": {},
   "outputs": [],
   "source": [
    "humorprisen_2023 = [\n",
    "    {\n",
    "        \"pris\": \"Morsomste humorprogram\",\n",
    "        \"nominerte\": [\n",
    "            {\n",
    "                \"navn\": \"Manndag\",\n",
    "                \"produsent\": \"NRK\",\n",
    "                \"vinner\": True\n",
    "            },\n",
    "            {\n",
    "                \"navn\": \"Erlend og Steinar hjelper deg\",\n",
    "                \"produsent\": \"Discovery\",\n",
    "                \"vinner\": False\n",
    "            },\n",
    "            {\n",
    "                \"navn\": \"KARPE: Ferdig, men ikke kom og tørk\",\n",
    "                \"produsent\": \"NRK\",\n",
    "                \"vinner\": False\n",
    "            }\n",
    "        ]\n",
    "    },\n",
    "    {\n",
    "        \"pris\": \"Morsomste underholdningsprogram\",\n",
    "        \"nominerte\": [\n",
    "            {\n",
    "                \"navn\": \"Bordtenniskameratene\",\n",
    "                \"produsent\": \"VGTV\",\n",
    "                \"vinner\": True\n",
    "            },\n",
    "            {\n",
    "                \"navn\": \"Huskestue\",\n",
    "                \"produsent\": \"TV2\",\n",
    "                \"vinner\": False\n",
    "            },\n",
    "            {\n",
    "                \"navn\": \"Kamikaze\",\n",
    "                \"produsent\": \"Discovery\",\n",
    "                \"vinner\": False\n",
    "            }\n",
    "        ]\n",
    "    },\n",
    "    {\n",
    "        \"pris\": \"Morsomste humordrama\",\n",
    "        \"nominerte\": [\n",
    "            {\n",
    "                \"navn\": \"Føkkings Fladseth\",\n",
    "                \"produsent\": \"TV2\",\n",
    "                \"vinner\": True\n",
    "            },\n",
    "            {\n",
    "                \"navn\": \"Basic Bitch\",\n",
    "                \"produsent\": \"Discovery\",\n",
    "                \"vinner\": False\n",
    "            },\n",
    "            {\n",
    "                \"navn\": \"Hva skjedde med Solveig?\",\n",
    "                \"produsent\": \"NRK\",\n",
    "                \"vinner\": False\n",
    "            }\n",
    "        ]\n",
    "    },\n",
    "    {\n",
    "        \"pris\": \"Morsomste podcast\",\n",
    "        \"nominerte\": [\n",
    "            {\n",
    "                \"navn\": \"Backflip med Snorre Monssson\",\n",
    "                \"produsent\": \"Juicy Production\",\n",
    "                \"vinner\": True\n",
    "            },\n",
    "            {\n",
    "                \"navn\": \"Tusvik & Tønne\",\n",
    "                \"produsent\": \"PodMe\",\n",
    "                \"vinner\": False\n",
    "            },\n",
    "            {\n",
    "                \"navn\": \"Guttapassasjen\",\n",
    "                \"produsent\": \"NRK\",\n",
    "                \"vinner\": False\n",
    "            },\n",
    "            {\n",
    "                \"navn\": \"Med all respekt\",\n",
    "                \"produsent\": \"NRK\",\n",
    "                \"vinner\": False\n",
    "            }\n",
    "        ]\n",
    "    }\n",
    "]"
   ]
  },
  {
   "cell_type": "code",
   "execution_count": 41,
   "metadata": {},
   "outputs": [
    {
     "name": "stdout",
     "output_type": "stream",
     "text": [
      "Navnet på Snorre Monssons podcast er: Backflip med Snorre Monssson\n",
      "Navnet på Snorre Monssons podcast er: Backflip med Snorre Monssson\n",
      "Navnet på Snorre Monssons podcast er: Backflip med Snorre Monssson\n",
      "Navnet på Snorre Monssons podcast er: Backflip med Snorre Monssson\n"
     ]
    }
   ],
   "source": [
    "# 1. Bruk listen med ordbøker og print navnet på Snorre Monssons podcast\n",
    "\n",
    "for kategori in humorprisen_2023:\n",
    "    for nominasjon in kategori[\"nominerte\"]:\n",
    "        if nominasjon[\"vinner\"]:\n",
    "            print(\"Navnet på Snorre Monssons podcast er:\", humorprisen_2023[3][\"nominerte\"][0][\"navn\"])\n",
    "            "
   ]
  },
  {
   "cell_type": "code",
   "execution_count": 31,
   "metadata": {},
   "outputs": [
    {
     "name": "stdout",
     "output_type": "stream",
     "text": [
      "Morsomste humorprogram\n",
      "Morsomste underholdningsprogram\n",
      "Morsomste humordrama\n",
      "Morsomste podcast\n"
     ]
    }
   ],
   "source": [
    "# 2. Print navnet på alle prisene\n",
    "\n",
    "for kategori in humorprisen_2023:\n",
    "    print(kategori[\"pris\"])\n"
   ]
  },
  {
   "cell_type": "code",
   "execution_count": 35,
   "metadata": {},
   "outputs": [
    {
     "name": "stdout",
     "output_type": "stream",
     "text": [
      "Manndag\n",
      "Erlend og Steinar hjelper deg\n",
      "KARPE: Ferdig, men ikke kom og tørk\n",
      "Bordtenniskameratene\n",
      "Huskestue\n",
      "Kamikaze\n",
      "Føkkings Fladseth\n",
      "Basic Bitch\n",
      "Hva skjedde med Solveig?\n",
      "Backflip med Snorre Monssson\n",
      "Tusvik & Tønne\n",
      "Guttapassasjen\n",
      "Med all respekt\n"
     ]
    }
   ],
   "source": [
    "# 3. Print navnet på alle de nominerte\n",
    "for kategori in humorprisen_2023:\n",
    "    for nominasjon in kategori[\"nominerte\"]:\n",
    "        print(nominasjon[\"navn\"])\n",
    "        \n",
    "\n"
   ]
  },
  {
   "cell_type": "code",
   "execution_count": 37,
   "metadata": {},
   "outputs": [
    {
     "name": "stdout",
     "output_type": "stream",
     "text": [
      "Manndag\n",
      "Bordtenniskameratene\n",
      "Føkkings Fladseth\n",
      "Backflip med Snorre Monssson\n"
     ]
    }
   ],
   "source": [
    "# 4. Print alle vinnerne\n",
    "for kategori in humorprisen_2023:\n",
    "    for nominasjon in kategori[\"nominerte\"]:\n",
    "        if nominasjon[\"vinner\"]:\n",
    "            print(nominasjon[\"navn\"])\n",
    "\n",
    "\n"
   ]
  },
  {
   "cell_type": "code",
   "execution_count": 42,
   "metadata": {},
   "outputs": [
    {
     "name": "stdout",
     "output_type": "stream",
     "text": [
      "Antall nominerte produsert av NRK: 5\n"
     ]
    }
   ],
   "source": [
    "# 5. Hvor mange nominerte er produsert av NRK?\n",
    "antall_nrk_nominerte = 0\n",
    "\n",
    "for pris in humorprisen_2023:\n",
    "    for nominasjon in pris[\"nominerte\"]:\n",
    "        if nominasjon[\"produsent\"] == \"NRK\":\n",
    "            antall_nrk_nominerte += 1\n",
    "\n",
    "print(\"Antall nominerte produsert av NRK:\", antall_nrk_nominerte)\n",
    "\n"
   ]
  },
  {
   "cell_type": "code",
   "execution_count": 45,
   "metadata": {},
   "outputs": [],
   "source": [
    "# 6. Lag en ordbok som teller hvor mange nominerte de forskjellige produsentene har\n"
   ]
  },
  {
   "cell_type": "code",
   "execution_count": 16,
   "metadata": {},
   "outputs": [],
   "source": [
    "# 7. Tegn et stolpediagram med antall nominerte gruppert etter produsent\n",
    "\n",
    "\n"
   ]
  },
  {
   "cell_type": "code",
   "execution_count": null,
   "metadata": {},
   "outputs": [],
   "source": []
  }
 ],
 "metadata": {
  "kernelspec": {
   "display_name": "Python 3",
   "language": "python",
   "name": "python3"
  },
  "language_info": {
   "codemirror_mode": {
    "name": "ipython",
    "version": 3
   },
   "file_extension": ".py",
   "mimetype": "text/x-python",
   "name": "python",
   "nbconvert_exporter": "python",
   "pygments_lexer": "ipython3",
   "version": "3.11.4"
  }
 },
 "nbformat": 4,
 "nbformat_minor": 2
}

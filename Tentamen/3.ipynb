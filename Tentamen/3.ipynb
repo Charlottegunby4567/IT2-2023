{
 "cells": [
  {
   "cell_type": "markdown",
   "metadata": {},
   "source": [
    "# Oppgave 3\n",
    "\n",
    "```psuedo\n",
    "FUNCTION er_primtall (tall)\n",
    "    FOR EACH i LESSER THAN tall\n",
    "        IF tall % i EQUAL TO 0\n",
    "            RETURN true\n",
    "        ENDIF\n",
    "    ENDFOR\n",
    "    RETURN false\n",
    "ENDFUNCTION\n",
    "```"
   ]
  },
  {
   "cell_type": "markdown",
   "metadata": {},
   "source": [
    "1. Oversett psuedokoden itil Python-kode"
   ]
  },
  {
   "cell_type": "code",
   "execution_count": 3,
   "metadata": {},
   "outputs": [],
   "source": [
    "def er_primtall(tall):\n",
    "    for i in range(1, tall):  \n",
    "        if tall % i == 0:\n",
    "            return True  \n",
    "    return False  "
   ]
  },
  {
   "cell_type": "markdown",
   "metadata": {},
   "source": [
    "\n",
    "2. Dokumenter funksjonen er_primtall\n",
    "\n",
    "- def er_primtall(tall):\n",
    "    \n",
    "    - Sjekker om et gitt tall er et primtall.\n",
    "\n",
    "    - Parametere:\n",
    "    tall: Tallet som skal sjekkes.\n",
    "\n",
    "\n",
    "    - Beskrivelse:\n",
    "        > Et primtall er et naturlig tall større enn 1\n",
    "        > Denne funksjonen sjekker alle tall fra 2 til tallet selv for å finne eventuelle andre delelige tall.\n",
    "        > Hvis ingen delelige tall finnes, returneres True, indikerende at tallet er et primtall.\n",
    "        >Hvis det finnes et delelig tall, returneres False. Tall som ikke kan deles på noe annet enn seg selv og 1.\n",
    "\n"
   ]
  }
 ],
 "metadata": {
  "kernelspec": {
   "display_name": "Python 3",
   "language": "python",
   "name": "python3"
  },
  "language_info": {
   "codemirror_mode": {
    "name": "ipython",
    "version": 3
   },
   "file_extension": ".py",
   "mimetype": "text/x-python",
   "name": "python",
   "nbconvert_exporter": "python",
   "pygments_lexer": "ipython3",
   "version": "3.11.4"
  }
 },
 "nbformat": 4,
 "nbformat_minor": 2
}

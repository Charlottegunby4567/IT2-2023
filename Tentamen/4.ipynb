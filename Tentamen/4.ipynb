{
 "cells": [
  {
   "cell_type": "markdown",
   "metadata": {},
   "source": [
    "# Oppgave 4 - Sykkelturer"
   ]
  },
  {
   "cell_type": "code",
   "execution_count": 2,
   "metadata": {},
   "outputs": [],
   "source": [
    "import json"
   ]
  },
  {
   "cell_type": "code",
   "execution_count": 22,
   "metadata": {},
   "outputs": [
    {
     "name": "stdout",
     "output_type": "stream",
     "text": [
      "De fem mest populære startstasjonene:\n",
      "1. Alexander Kiellands Plass: 537 turer\n",
      "2. Helga Helgesens plass: 503 turer\n",
      "3. Olaf Ryes plass: 495 turer\n",
      "4. Aker Brygge: 492 turer\n",
      "5. Marcus Thranes gate: 476 turer\n"
     ]
    }
   ],
   "source": [
    "# 1. Lag et program som presenterer de fem mest polulære startstasjonene, og skriver u navnet på stasjonen og antall turer som starter der\n",
    "\n",
    "\n",
    "with open('sykkelturer.json') as f:\n",
    "    data = json.load(f)\n",
    "\n",
    "stasjon_teller = {}\n",
    "\n",
    "for tur in data:\n",
    "    start_stasjon_navn = tur['start_station_name']\n",
    "    if start_stasjon_navn in stasjon_teller:\n",
    "        stasjon_teller[start_stasjon_navn] += 1\n",
    "    else:\n",
    "        stasjon_teller[start_stasjon_navn] = 1\n",
    "\n",
    "sorterte_stasjoner = sorted(stasjon_teller.items(), key=lambda x: x[1], reverse=True)\n",
    "\n",
    "\n",
    "print(\"De fem mest populære startstasjonene:\")\n",
    "for i in range(5):\n",
    "    stasjon_navn, antall_turer = sorterte_stasjoner[i]\n",
    "    print(f\"{i+1}. {stasjon_navn}: {antall_turer} turer\")\n"
   ]
  },
  {
   "cell_type": "code",
   "execution_count": 26,
   "metadata": {},
   "outputs": [
    {
     "ename": "KeyError",
     "evalue": "'tid'",
     "output_type": "error",
     "traceback": [
      "\u001b[0;31m---------------------------------------------------------------------------\u001b[0m",
      "\u001b[0;31mKeyError\u001b[0m                                  Traceback (most recent call last)",
      "Cell \u001b[0;32mIn[26], line 3\u001b[0m\n\u001b[1;32m      1\u001b[0m \u001b[38;5;66;03m# 2. Utvid programmet slik at det også presenterer de tre lengste turene (målt i tid), og skriver ut navnet på start- g endestasjonen, samt turens varighet.\u001b[39;00m\n\u001b[0;32m----> 3\u001b[0m sorted_trips_by_duration \u001b[38;5;241m=\u001b[39m \u001b[38;5;28;43msorted\u001b[39;49m\u001b[43m(\u001b[49m\u001b[43mdata\u001b[49m\u001b[43m,\u001b[49m\u001b[43m \u001b[49m\u001b[43mkey\u001b[49m\u001b[38;5;241;43m=\u001b[39;49m\u001b[38;5;28;43;01mlambda\u001b[39;49;00m\u001b[43m \u001b[49m\u001b[43mx\u001b[49m\u001b[43m:\u001b[49m\u001b[43m \u001b[49m\u001b[38;5;28;43mint\u001b[39;49m\u001b[43m(\u001b[49m\u001b[43mx\u001b[49m\u001b[43m[\u001b[49m\u001b[38;5;124;43m'\u001b[39;49m\u001b[38;5;124;43mtid\u001b[39;49m\u001b[38;5;124;43m'\u001b[39;49m\u001b[43m]\u001b[49m\u001b[43m)\u001b[49m\u001b[43m,\u001b[49m\u001b[43m \u001b[49m\u001b[43mreverse\u001b[49m\u001b[38;5;241;43m=\u001b[39;49m\u001b[38;5;28;43;01mTrue\u001b[39;49;00m\u001b[43m)\u001b[49m\n\u001b[1;32m      4\u001b[0m \u001b[38;5;28mprint\u001b[39m(\u001b[38;5;124m\"\u001b[39m\u001b[38;5;124mDe tre lengste turene målt i tid:\u001b[39m\u001b[38;5;124m\"\u001b[39m)\n\u001b[1;32m      5\u001b[0m \u001b[38;5;28;01mfor\u001b[39;00m i, trip \u001b[38;5;129;01min\u001b[39;00m \u001b[38;5;28menumerate\u001b[39m(sorted_trips_by_duration[:\u001b[38;5;241m3\u001b[39m], start\u001b[38;5;241m=\u001b[39m\u001b[38;5;241m1\u001b[39m):\n",
      "Cell \u001b[0;32mIn[26], line 3\u001b[0m, in \u001b[0;36m<lambda>\u001b[0;34m(x)\u001b[0m\n\u001b[1;32m      1\u001b[0m \u001b[38;5;66;03m# 2. Utvid programmet slik at det også presenterer de tre lengste turene (målt i tid), og skriver ut navnet på start- g endestasjonen, samt turens varighet.\u001b[39;00m\n\u001b[0;32m----> 3\u001b[0m sorted_trips_by_duration \u001b[38;5;241m=\u001b[39m \u001b[38;5;28msorted\u001b[39m(data, key\u001b[38;5;241m=\u001b[39m\u001b[38;5;28;01mlambda\u001b[39;00m x: \u001b[38;5;28mint\u001b[39m(\u001b[43mx\u001b[49m\u001b[43m[\u001b[49m\u001b[38;5;124;43m'\u001b[39;49m\u001b[38;5;124;43mtid\u001b[39;49m\u001b[38;5;124;43m'\u001b[39;49m\u001b[43m]\u001b[49m), reverse\u001b[38;5;241m=\u001b[39m\u001b[38;5;28;01mTrue\u001b[39;00m)\n\u001b[1;32m      4\u001b[0m \u001b[38;5;28mprint\u001b[39m(\u001b[38;5;124m\"\u001b[39m\u001b[38;5;124mDe tre lengste turene målt i tid:\u001b[39m\u001b[38;5;124m\"\u001b[39m)\n\u001b[1;32m      5\u001b[0m \u001b[38;5;28;01mfor\u001b[39;00m i, trip \u001b[38;5;129;01min\u001b[39;00m \u001b[38;5;28menumerate\u001b[39m(sorted_trips_by_duration[:\u001b[38;5;241m3\u001b[39m], start\u001b[38;5;241m=\u001b[39m\u001b[38;5;241m1\u001b[39m):\n",
      "\u001b[0;31mKeyError\u001b[0m: 'tid'"
     ]
    }
   ],
   "source": [
    "# 2. Utvid programmet slik at det også presenterer de tre lengste turene (målt i tid), og skriver ut navnet på start- g endestasjonen, samt turens varighet.\n",
    "\n",
    "sorted_trips_by_duration = sorted(data, key=lambda x: int(x['duration']), reverse=True)\n",
    "print(\"De tre lengste turene målt i tid:\")\n",
    "for i, trip in enumerate(sorted_trips_by_duration[:3], start=1):\n",
    "    start_stasjon = trip['start_station_name']\n",
    "    end_stasjon = trip['end_station_name']\n",
    "    duration_seconds = int(trip['duration'])\n",
    "    duration_minutes = duration_seconds // 60\n",
    "    duration_seconds %= 60\n",
    "    print(f\"{i}. Fra {start_stasjon} til {end_stasjon}: {duration_minutes} minutter {duration_seconds} sekunder\")"
   ]
  },
  {
   "cell_type": "code",
   "execution_count": 15,
   "metadata": {},
   "outputs": [],
   "source": [
    "# 3. Utvid programmet slik at det også presenterer de tre lengste turene (målt i distanse), og skriver ut navnet på start - og endestasjonen\n",
    "        # 1. Tips: Pytagoras, latitude og longitude\n",
    "        # 2. Programmet trenger ikke presentere distansen\n",
    "\n",
    "\n",
    "from math import radians, sin, cos, sqrt, atan2\n",
    "\n",
    "# Funksjon for å beregne avstand mellom to geografiske koordinater ved hjelp av Haversine-formelen\n",
    "def beregn_avstand(lat1, lon1, lat2, lon2):\n",
    "    # Konverter bredde- og lengdegrader til radianer\n",
    "    lat1, lon1, lat2, lon2 = map(radians, [lat1, lon1, lat2, lon2])\n",
    "\n",
    "\n",
    "lengste_turer = []\n",
    "\n",
    "for tur in lengste_turer:\n",
    "    start_lat = float(tur[\"start_station_latitude\"])\n",
    "    start_lon = float(tur[\"start_station_longitude\"])\n",
    "    end_lat = float(tur[\"end_station_latitude\"])\n",
    "    end_lon = float(tur[\"end_station_longitude\"])\n",
    "\n",
    "    avstand = beregn_avstand(start_lat, start_lon, end_lat, end_lon)\n",
    "\n",
    "    lengste_turer.append((tur[\"start_station_name\"], tur[\"end_station_name\"], avstand))\n",
    "\n",
    "\n",
    "lengste_turer.sort(key=lambda x: x[2], reverse=True)\n",
    "\n",
    "\n",
    "for i, tur in enumerate(lengste_turer[:3], 1):\n",
    "    print(f\"{i}. Start: {tur[0]}, Slutt: {tur[1]}\")\n",
    "\n"
   ]
  }
 ],
 "metadata": {
  "kernelspec": {
   "display_name": "Python 3",
   "language": "python",
   "name": "python3"
  },
  "language_info": {
   "codemirror_mode": {
    "name": "ipython",
    "version": 3
   },
   "file_extension": ".py",
   "mimetype": "text/x-python",
   "name": "python",
   "nbconvert_exporter": "python",
   "pygments_lexer": "ipython3",
   "version": "3.11.4"
  }
 },
 "nbformat": 4,
 "nbformat_minor": 2
}

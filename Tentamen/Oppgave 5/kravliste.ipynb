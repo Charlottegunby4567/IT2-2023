{
 "cells": [
  {
   "cell_type": "markdown",
   "metadata": {},
   "source": [
    "# Oppgave 5 - Pong 2.0\n",
    "\n",
    "*** Lage en moderene versjon av spillet Pong som ble utgitt av Atari i 1972. Pong er et spill der to spiller en ofrm for tennis mot hverandre. Det er om å gjøre å få en ball til å treffe veggen bak motspilleren ***"
   ]
  },
  {
   "cell_type": "markdown",
   "metadata": {},
   "source": [
    "### Kravliste 1 - Krav til spillet\n",
    "\n",
    "- [x] spillet skal ha to spillere,en på hver side av skjermen\n",
    "- [x] spillerene skal styre hver sin racket, en med piltastene og en med W og S\n",
    "- [x] ballen skal sprette av racketene på venstre side og høyre side.\n",
    "- [????] ballen skal sprette av veggene oppe og nede.\n",
    "- [x] hvis ballen treffervenstre eller høyre kant av skjermen, skal spilleren på motsatt side få poeng.\n",
    "- [x] ballen skal ha en tilfeldig startsretning\n",
    "- [x] ballen skal starte på midten av skjermen hver gang en spiller scorer\n",
    "- [x] spillet skal ha en poengtavle som viser antall poeng hver spiller har"
   ]
  },
  {
   "cell_type": "markdown",
   "metadata": {},
   "source": [
    "### Kravliste 2 -  Krav til hindre\n",
    "\n",
    "- [x] spillet skal ha tre hindre som står i en fast posisjon midt på spillerbrettet i x-retning, og litt spredd fra hverandre i y - retning.\n",
    "- [x] hvis en ball treffer et hinder, skal ballen skifte retning"
   ]
  },
  {
   "cell_type": "markdown",
   "metadata": {},
   "source": [
    "### Kravliste 3 - Krav til baller\n",
    "\n",
    "- [] når en ball treffer en racket, skal det oppretes en ny ball\n",
    "- [] den nye ballen skal ha samme posisjon som den forrige ballen\n",
    "- [] retningen den nye ballen, skal være annerledes enn den forrige\n",
    "- [] det skal maks være fem baller i spill og minst én ball\n",
    "- [] når en ball gir et poeng på venstre eller høyre side, skal ballen forsvinne og det skal ikke dukke opp en ny ball på midten\n",
    "- [] når den siste ballen forsvinner, skal det dukke påå en ny ball på midten."
   ]
  },
  {
   "cell_type": "markdown",
   "metadata": {},
   "source": [
    "### UML-diagram"
   ]
  }
 ],
 "metadata": {
  "language_info": {
   "name": "python"
  }
 },
 "nbformat": 4,
 "nbformat_minor": 2
}

{
 "cells": [
  {
   "cell_type": "code",
   "execution_count": 1,
   "metadata": {},
   "outputs": [
    {
     "name": "stdout",
     "output_type": "stream",
     "text": [
      "Hallo, verden!\n"
     ]
    }
   ],
   "source": [
    "print(\"Hallo, verden!\")"
   ]
  },
  {
   "cell_type": "markdown",
   "metadata": {},
   "source": [
    "# Dokumentasjon og kommentarer\n",
    "\n",
    "## Plan\n",
    "\n",
    "1. Hvorfor kommentere/dokumentere\n",
    "2. Kommentarer VS dokumentasjon (forskjellen)\n",
    "3. Kommentarer\n",
    "    1. Hvordan?\n",
    "    2. Trenger vi egentlig kommnetarer?\n",
    "4. Type hinting\n",
    "5. Docstrings\n",
    "\n",
    "\n",
    "## Oppgaver\n",
    "\n",
    "- 3.17 - 3.20 på IT2.thorcc.no\n",
    "- Prosjektarbeid\n"
   ]
  },
  {
   "cell_type": "markdown",
   "metadata": {},
   "source": [
    "## Hvorfor kommentere/dokumentere kode?\n",
    "\n",
    "\"Code is more often read than written\" - Guido von Rossu (skaperen av pyton)\n"
   ]
  },
  {
   "cell_type": "markdown",
   "metadata": {},
   "source": [
    "## Kommentarer\n",
    "\n",
    "Lag en kommentar i pyton:"
   ]
  },
  {
   "cell_type": "code",
   "execution_count": null,
   "metadata": {},
   "outputs": [],
   "source": [
    "\n",
    "# Kommentarer i pyton lages med # (hashtag)\n",
    "\"\"\"Dette er også en kommentar\"\"\"\n",
    "\"\"\"Kommentarer med tre anførseltegn\n",
    "kan gå over flere linjer\"\"\"\n",
    "\n",
    "# I følge Pythons stilguide (PEP 8) - En kommentar skal ikke være lenger enn 72 tegn\n",
    "# Hvis en kommentar er lenger enn 72 tegn legger vi på et linjeskift\n",
    "# Det er vanlig å bruke hashtags selv om vi har lange kommentarer som går over flere linjer\n"
   ]
  },
  {
   "cell_type": "code",
   "execution_count": null,
   "metadata": {},
   "outputs": [],
   "source": [
    "# Eksempel på funksjon\n",
    "def ta_på_regntøy(vær):\n",
    "    # sjekker om været er regn\n",
    "    if vær == \"regn\":\n",
    "        # hvis det regner returneres True\n",
    "        return True\n",
    "    else:\n",
    "        # retuner False hvis været ikke er regn\n",
    "        return False"
   ]
  },
  {
   "cell_type": "markdown",
   "metadata": {},
   "source": [
    "#### Oppgave 3.17\n",
    "\n",
    "1. Kopier koden under inn i en .py-fil i VS Code\n",
    "2. Hva gjør koden? Skriv svaret som en kommentar øverst i filen.\n",
    "3. Legg på kommentarer slik at koden blir forståelig for andre.\n",
    "4. Endre variabelnavn i koden slik at den blir lettere å forstå uten kommentarer.\n",
    "5. Se over den endrede koden, er den lett å forstå? Hvis ikke, legg på nødvendige kommentarer."
   ]
  },
  {
   "cell_type": "code",
   "execution_count": null,
   "metadata": {},
   "outputs": [],
   "source": [
    "\n",
    "# 2. Hva gjør koden?\n",
    "    # Koden regner ut arealet av en trekant ved å gange a (grunnlinjen) med b (høyden) for så å dele på 2: som er koden c\n",
    " \n",
    "\n",
    "# 3. Legg på kommentarer slik at koden blir forståelig for andre\n",
    "# a = et tall i cm\n",
    "a = float(input(\"Grunnlinje (cm): \"))\n",
    "# b = høyde i cm\n",
    "b = float(input(\"Høyde (cm): \"))\n",
    "\n",
    "# c = grunnlinje gange høyde delt på 2 (formel)\n",
    "c = a*b/2\n",
    "# printer arealet med en liten tekst\n",
    "print(f\"Arealet er {c} cm^2\")\n",
    "\n",
    "\n",
    "\n",
    "# 4. Fjern alle kommentarer og endre koden slik at den blir enklere å forstå\n",
    "\n",
    "grunnlinje = float(input(\"Grunnlinje (cm): \"))\n",
    "høyde = float(input(\"Høyde (cm): \"))\n",
    "\n",
    "areal = grunnlinje*høyde / 2\n",
    "\n",
    "print(f\"Arealet er {areal} cm^2\")\n",
    "\n",
    "\n",
    "\n",
    "# 5. Se over koden og legg på eventuelle nødvendige kommentarer\n",
    "\n",
    "# float = desimaltall, input gir mulighet for å putte inn et valgfritt desimaltall\n",
    "grunnlinje = float(input(\"Grunnlinje (cm): \"))\n",
    "# float = desimaltall, input gir mulighet for å putte inn et valgfritt desimaltall\n",
    "høyde = float(input(\"Høyde (cm): \"))\n",
    "\n",
    "# arealet er grunnlinhge * høyde / 2\n",
    "areal = grunnlinje*høyde / 2\n",
    "\n",
    "# printer en f-string: arealet er areal cm^2\n",
    "print(f\"Arealet er {areal} cm^2\")"
   ]
  },
  {
   "cell_type": "markdown",
   "metadata": {},
   "source": [
    "#### Oppgave 3.18\n",
    "\n",
    "1. Kopier koden under inn i en .py-fil i VS Code\n",
    "2. Hva gjør koden? Skriv svaret som en kommentar øverst i filen.\n",
    "3. Legg på kommentarer slik at koden blir forståelig for andre.\n",
    "4. Endre variabelnavn i koden slik at den blir lettere å forstå uten kommentarer.\n",
    "5. Se over den endrede koden, er den lett å forstå? Hvis ikke, legg på nødvendige kommentarer."
   ]
  },
  {
   "cell_type": "code",
   "execution_count": null,
   "metadata": {},
   "outputs": [],
   "source": [
    "# 2. Hva gjør koden?\n",
    "# koden er en liste med formel 1 kjørere (ordbøker), hvor variablene (navn, nasjonalitet, team og bilnummer)\n",
    " \n",
    "# 3. Legg på kommentarer slik at koden blir forståelig for andre\n",
    "f1 = [\n",
    "    {\"navn\": \"Max Verstappen\", \"nasjonalitet\": \"nederlandsk\", \"team\": \"Red Bull Racing\", \"bilnummer\": 1},\n",
    "    {\"navn\": \"Sergio Perez\", \"nasjonalitet\": \"meksikansk\", \"team\": \"Red Bull Racing\", \"bilnummer\": 11},\n",
    "    {\"navn\": \"Lewis Hamilton\", \"nasjonalitet\": \"britisk\", \"team\": \"Mercedes\", \"bilnummer\": 44},\n",
    "    {\"navn\": \"George Russell\", \"nasjonalitet\": \"britisk\", \"team\": \"Mercedes\", \"bilnummer\": 63},\n",
    "    {\"navn\": \"Charles Leclerc\", \"nasjonalitet\": \"monegaskisk\", \"team\": \"Ferrari\", \"bilnummer\": 16},\n",
    "    {\"navn\": \"Kevin Magnussen\", \"nasjonalitet\": \"dansk\", \"team\": \"Haas F1 Team\", \"bilnummer\": 20},\n",
    "    {\"navn\": \"Nico Hulkenberg\", \"nasjonalitet\": \"tysk\", \"team\": \"Haas F1 Team\", \"bilnummer\": 27}\n",
    "]\n",
    "# tom ordbok\n",
    "antall = {}\n",
    "\n",
    "# for løkke\n",
    "# s er en sjåfør\n",
    "# for sjåfører i listen med formel 1 kjørere\n",
    "\n",
    "for s in f1:\n",
    "  # hvis sjåføren ikke er i den tomme ordboken antall         \n",
    "  if s['nasjonalitet'] not in antall:\n",
    "\n",
    "    # Setter inn lanndet + 1= eks: nedeland = 1\n",
    "    # den teller antall nasjonaliteter\n",
    "    antall[s['nasjonalitet']] = 1\n",
    "\n",
    "    # Hvis bare en i ordboken har en enkelt nasjonalitet = 1\n",
    "  else:\n",
    "    antall[s['nasjonalitet']] += 1\n",
    " \n",
    "print(antall[\"britisk\"])\n",
    "print(antall[\"spansk\"])\n",
    " \n",
    "## ------\n",
    "# 4. Fjern alle kommentarer og endre koden slik at den blir enklere å forstå\n",
    "# 5. Se over koden, og legg på eventuelle kommentarer\n",
    " \n",
    "# TODO Lim inn koden på nytt under her, og endre koden:\n",
    " "
   ]
  },
  {
   "cell_type": "markdown",
   "metadata": {},
   "source": [
    "## Type hinting og docstrings\n",
    "\n",
    "- Type hinting og docstrings er spesielle kommentarer som brukes for å dokumentere kode.\n",
    "- Dokumentasjon av kode lages for å hjelpe utviklere å bruke koden\n",
    "    - For eksempel: dokumentasjonen som er laget for å foklare random.randint-funkjsonen, er laget for å forklare utviklere hvordan funksjonen skal brukes. \n",
    "- \"Vanlige\" kommentarer er laget for de som skal endre/forbedre kode, mens dokumentasjon lages for programmerere som skal bruke kode."
   ]
  },
  {
   "cell_type": "code",
   "execution_count": null,
   "metadata": {},
   "outputs": [],
   "source": [
    "# Type hinting\n",
    "\n",
    "# Type hinting skrives etter parametere i funksjoner for å dokumentere hva slags datatyper parameterene skal være. I eksempelet under er \"float\" type hinting.\n",
    "\n",
    "def areal_trekant (grunnlinje: int, høyde: int) -> int: # pilen på slutten sier hva den skal returnere\n",
    "    return grunnlinje * høyde / 2\n",
    "\n",
    "areal_trekant (10, 5)\n",
    "areal_trekant()     # int = heltall, float = desimaltall"
   ]
  },
  {
   "cell_type": "code",
   "execution_count": null,
   "metadata": {},
   "outputs": [],
   "source": [
    "# Docstring\n",
    "\n",
    "# Docstrings er dokumentasjon som vises når vi bruker en funksjon eller klasse i VS-code. de skrives mellom 3 anførseltegn (\"\"\").\n",
    "# Det er vanlig å beskrive hva funksjonen gjør og hva parameterene er.\n",
    "\n",
    "def areal_trekant (grunnlinje: float, høyde: float) -> float:\n",
    "    \"\"\"\n",
    "    En funksjon som regner ut areal av trekanter\n",
    "\n",
    "    parametere\n",
    "        Grunnlinje (float): grunnlinja i trekanten\n",
    "        Høyde (float): høyden i trekanten\n",
    "    \"\"\"\n",
    "    return grunnlinje * høyde / 2\n",
    "\n",
    "areal_trekant (10, 5)\n",
    "areal_trekant()"
   ]
  },
  {
   "cell_type": "markdown",
   "metadata": {},
   "source": [
    "#### Oppgave 3.19\n",
    "\n",
    "1. Kopier koden i en .py-fil i VS-Code\n",
    "2. Dokumenter koden med docstrings"
   ]
  },
  {
   "cell_type": "code",
   "execution_count": null,
   "metadata": {},
   "outputs": [],
   "source": [
    "class Hund:\n",
    "\n",
    "    \"\"\"\n",
    "    En klasse for elever på VGS\n",
    "\n",
    "    Atributter\n",
    "        navn (str): navnet til hunden\n",
    "        alder (int): alderen til hunden\n",
    "        rase (str): rase til hunden\n",
    "\n",
    "    Metoder\n",
    "        bjeff (navn: str): skriver navnmet til hunden + woof\n",
    "        viftPaaHalen (navn: str): navnet på hunden + vifter på halen!\n",
    "        info (navn: str): returnerer navnet til hunden er en alder til hunden år gammel rase til hunden\n",
    "    \"\"\"\n",
    "    \n",
    "    def __init__(self, navn, alder, rase):\n",
    "        self.navn = navn\n",
    "        self.alder = alder\n",
    "        self.rase = rase\n",
    " \n",
    "    def bjeff(self):\n",
    "        return f\"{self.navn} sier: Woof!\"\n",
    " \n",
    "    def viftPaaHalen(self):\n",
    "        return f\"{self.navn} vifter på halen!\"\n",
    " \n",
    "    def info(self):\n",
    "        return f\"{self.navn} er en {self.alder} år gammel {self.rase}.\"\n",
    " \n",
    " \n",
    "# Test av klassen\n",
    "if __name__ == \"__main__\":\n",
    "    min_hund = Hund(\"Rex\", 5, \"Schäfer\")\n",
    "    print(min_hund.bjeff())\n",
    "    print(min_hund.viftPaaHalen())\n",
    "    print(min_hund.info())"
   ]
  },
  {
   "cell_type": "markdown",
   "metadata": {},
   "source": [
    "#### Oppgave 3.20\n",
    "\n",
    "- Dokumenter en klasse i et av dine egne prosjekter med docstrings.\n"
   ]
  },
  {
   "cell_type": "code",
   "execution_count": null,
   "metadata": {},
   "outputs": [],
   "source": []
  }
 ],
 "metadata": {
  "kernelspec": {
   "display_name": "Python 3",
   "language": "python",
   "name": "python3"
  },
  "language_info": {
   "codemirror_mode": {
    "name": "ipython",
    "version": 3
   },
   "file_extension": ".py",
   "mimetype": "text/x-python",
   "name": "python",
   "nbconvert_exporter": "python",
   "pygments_lexer": "ipython3",
   "version": "3.11.4"
  }
 },
 "nbformat": 4,
 "nbformat_minor": 2
}

{
 "cells": [
  {
   "cell_type": "code",
   "execution_count": null,
   "metadata": {},
   "outputs": [],
   "source": [
    "# OPPGAVER DATABEHANDLNG UKE 3"
   ]
  },
  {
   "cell_type": "code",
   "execution_count": 10,
   "metadata": {},
   "outputs": [
    {
     "ename": "FileNotFoundError",
     "evalue": "[Errno 2] No such file or directory: 'spotify-weekly-top-songs-global-uke2-2023.json'",
     "output_type": "error",
     "traceback": [
      "\u001b[0;31m---------------------------------------------------------------------------\u001b[0m",
      "\u001b[0;31mFileNotFoundError\u001b[0m                         Traceback (most recent call last)",
      "Cell \u001b[0;32mIn[10], line 4\u001b[0m\n\u001b[1;32m      1\u001b[0m \u001b[38;5;66;03m# Oppgave 1\u001b[39;00m\n\u001b[1;32m      3\u001b[0m \u001b[38;5;28;01mimport\u001b[39;00m \u001b[38;5;21;01mjson\u001b[39;00m\n\u001b[0;32m----> 4\u001b[0m \u001b[38;5;28;01mwith\u001b[39;00m \u001b[38;5;28;43mopen\u001b[39;49m\u001b[43m(\u001b[49m\u001b[38;5;124;43m\"\u001b[39;49m\u001b[38;5;124;43mspotify-weekly-top-songs-global-uke2-2023.json\u001b[39;49m\u001b[38;5;124;43m\"\u001b[39;49m\u001b[43m)\u001b[49m \u001b[38;5;28;01mas\u001b[39;00m fil:\n\u001b[1;32m      5\u001b[0m     data \u001b[38;5;241m=\u001b[39m json\u001b[38;5;241m.\u001b[39mload(fil)\n",
      "File \u001b[0;32m~/Library/Python/3.11/lib/python/site-packages/IPython/core/interactiveshell.py:310\u001b[0m, in \u001b[0;36m_modified_open\u001b[0;34m(file, *args, **kwargs)\u001b[0m\n\u001b[1;32m    303\u001b[0m \u001b[38;5;28;01mif\u001b[39;00m file \u001b[38;5;129;01min\u001b[39;00m {\u001b[38;5;241m0\u001b[39m, \u001b[38;5;241m1\u001b[39m, \u001b[38;5;241m2\u001b[39m}:\n\u001b[1;32m    304\u001b[0m     \u001b[38;5;28;01mraise\u001b[39;00m \u001b[38;5;167;01mValueError\u001b[39;00m(\n\u001b[1;32m    305\u001b[0m         \u001b[38;5;124mf\u001b[39m\u001b[38;5;124m\"\u001b[39m\u001b[38;5;124mIPython won\u001b[39m\u001b[38;5;124m'\u001b[39m\u001b[38;5;124mt let you open fd=\u001b[39m\u001b[38;5;132;01m{\u001b[39;00mfile\u001b[38;5;132;01m}\u001b[39;00m\u001b[38;5;124m by default \u001b[39m\u001b[38;5;124m\"\u001b[39m\n\u001b[1;32m    306\u001b[0m         \u001b[38;5;124m\"\u001b[39m\u001b[38;5;124mas it is likely to crash IPython. If you know what you are doing, \u001b[39m\u001b[38;5;124m\"\u001b[39m\n\u001b[1;32m    307\u001b[0m         \u001b[38;5;124m\"\u001b[39m\u001b[38;5;124myou can use builtins\u001b[39m\u001b[38;5;124m'\u001b[39m\u001b[38;5;124m open.\u001b[39m\u001b[38;5;124m\"\u001b[39m\n\u001b[1;32m    308\u001b[0m     )\n\u001b[0;32m--> 310\u001b[0m \u001b[38;5;28;01mreturn\u001b[39;00m \u001b[43mio_open\u001b[49m\u001b[43m(\u001b[49m\u001b[43mfile\u001b[49m\u001b[43m,\u001b[49m\u001b[43m \u001b[49m\u001b[38;5;241;43m*\u001b[39;49m\u001b[43margs\u001b[49m\u001b[43m,\u001b[49m\u001b[43m \u001b[49m\u001b[38;5;241;43m*\u001b[39;49m\u001b[38;5;241;43m*\u001b[39;49m\u001b[43mkwargs\u001b[49m\u001b[43m)\u001b[49m\n",
      "\u001b[0;31mFileNotFoundError\u001b[0m: [Errno 2] No such file or directory: 'spotify-weekly-top-songs-global-uke2-2023.json'"
     ]
    }
   ],
   "source": [
    "# Oppgave 1\n",
    "\n",
    "import json\n",
    "with open(\"spotify-weekly-top-songs-global-uke2-2023.json\") as fil:\n",
    "    data = json.load(fil)"
   ]
  },
  {
   "cell_type": "code",
   "execution_count": null,
   "metadata": {},
   "outputs": [],
   "source": [
    "# Oppgave 1.1\n",
    "    # Hvilken sang har flest uker på Spotifys Weekly Top Songs Global?\n",
    "\n",
    "høyest = data[0][\"uker_paa_listen\"]\n",
    "høyest_sang = data[0][\"navn\"]\n",
    "for sang in data:\n",
    "    if sang[\"uker_paa_listen\"] > høyest:\n",
    "        høyest = sang[\"uker_paa_listen\"]\n",
    "        høyest_sang = sang[\"navn\"]\n",
    "print(høyest_sang, høyest)\n"
   ]
  },
  {
   "cell_type": "code",
   "execution_count": null,
   "metadata": {},
   "outputs": [],
   "source": [
    "# Oppgave 1.2 \n",
    "    # Hvor mange streams har Taylor Swift til sammen på sangene hennes som er på topplista?\n",
    "\n",
    "total = 0\n",
    "antall = 0\n",
    "for sang in data:\n",
    "    if sang[\"artist\"] == \"Taylor Swift\":\n",
    "        total += sang[\"antall_streams\"]\n",
    "        antall += 1\n",
    "print(f\"Taylor Swift har totalt {total} antall streams, som gir et snitt på {total/antall} per sang\")\n",
    "\n"
   ]
  },
  {
   "cell_type": "code",
   "execution_count": null,
   "metadata": {},
   "outputs": [],
   "source": [
    "# Oppgave 1.3\n",
    "    # Hvilken sang gikk opp flest plasseringer fra forrige uke til denne?\n",
    "\n"
   ]
  },
  {
   "cell_type": "code",
   "execution_count": 9,
   "metadata": {},
   "outputs": [
    {
     "ename": "KeyError",
     "evalue": "'antall_streams'",
     "output_type": "error",
     "traceback": [
      "\u001b[0;31m---------------------------------------------------------------------------\u001b[0m",
      "\u001b[0;31mKeyError\u001b[0m                                  Traceback (most recent call last)",
      "Cell \u001b[0;32mIn[9], line 8\u001b[0m\n\u001b[1;32m      6\u001b[0m antall \u001b[38;5;241m=\u001b[39m \u001b[38;5;241m0\u001b[39m\n\u001b[1;32m      7\u001b[0m \u001b[38;5;28;01mfor\u001b[39;00m sang \u001b[38;5;129;01min\u001b[39;00m data:\n\u001b[0;32m----> 8\u001b[0m     total \u001b[38;5;241m+\u001b[39m\u001b[38;5;241m=\u001b[39m \u001b[43msang\u001b[49m\u001b[43m[\u001b[49m\u001b[38;5;124;43m\"\u001b[39;49m\u001b[38;5;124;43mantall_streams\u001b[39;49m\u001b[38;5;124;43m\"\u001b[39;49m\u001b[43m]\u001b[49m\n\u001b[1;32m      9\u001b[0m     antall \u001b[38;5;241m+\u001b[39m\u001b[38;5;241m=\u001b[39m \u001b[38;5;241m1\u001b[39m\n\u001b[1;32m     10\u001b[0m \u001b[38;5;28mprint\u001b[39m(\u001b[38;5;124m\"\u001b[39m\u001b[38;5;124mGjennomsnittlig antall streams:\u001b[39m\u001b[38;5;124m\"\u001b[39m, total \u001b[38;5;241m/\u001b[39m antall)\n",
      "\u001b[0;31mKeyError\u001b[0m: 'antall_streams'"
     ]
    }
   ],
   "source": [
    "# Ekstra\n",
    "\n",
    "     # Hva er gjennomsnnittlig antall streams per sang på topplista\n",
    "\n",
    "total = 0\n",
    "antall = 0\n",
    "for sang in data:\n",
    "    total += sang[\"antall_streams\"]\n",
    "    antall += 1\n",
    "print(\"Gjennomsnittlig antall streams:\", total / antall)\n",
    "\n",
    "\n",
    "\n",
    "# Hvilken sang gikk opp flest plasseringer fra forrige uke til denne?\n",
    "\n",
    "total = 0\n",
    "antall = 0\n",
    "for sang in data:\n",
    "    total += sang[\"uker_paa_listen\"]\n",
    "    antall += 1\n",
    "print(\"Gjennomsnittlig antall uker på lista:\", total / antall)\n",
    "\n",
    "\n"
   ]
  },
  {
   "cell_type": "code",
   "execution_count": 2,
   "metadata": {},
   "outputs": [],
   "source": [
    "# Oppgave 2\n",
    "\n",
    "import json\n",
    "with open(\"imdb_top250.json\") as fil:\n",
    "    data = json.load(fil)"
   ]
  },
  {
   "cell_type": "code",
   "execution_count": 6,
   "metadata": {},
   "outputs": [],
   "source": [
    "# Oppgave 2.1\n",
    "    # Hvilken film ligger øverst på listen og hvem har regissert den?\n",
    "\n",
    "def finn_første_film_info(filmliste):\n",
    "    første_film = filmliste[0]\n",
    "    navn_på_film = første_film[\"navn\"]\n",
    "    regissør = første_film[\"regissører\"][0]\n",
    "    return navn_på_film, regissør\n"
   ]
  },
  {
   "cell_type": "code",
   "execution_count": 7,
   "metadata": {},
   "outputs": [],
   "source": [
    "# Oppgave 2.2\n",
    "    # Hva er gjennomsnittskarakteren til alle filmene på listen?\n",
    "\n",
    "def beregn_gjennomsnittskarakter(filmliste):\n",
    "    total_karakter = sum(film[\"karakter\"] for film in filmliste)\n",
    "    gjennomsnitt_karakter = total_karakter / len(filmliste)\n",
    "    return gjennomsnitt_karakter\n"
   ]
  },
  {
   "cell_type": "code",
   "execution_count": 8,
   "metadata": {},
   "outputs": [],
   "source": [
    "# Oppgave 2.3\n",
    "    # Hva er gjennomsnittskarakteren til de ti første filmene?\n",
    "\n",
    "def beregn_gjennomsnittskarakter_til_ti_første(filmliste):\n",
    "    total_karakter = sum(film[\"karakter\"] for film in filmliste[:10])\n",
    "    gjennomsnitt_karakter = total_karakter / min(len(filmliste), 10)\n",
    "    return gjennomsnitt_karakter\n"
   ]
  },
  {
   "cell_type": "code",
   "execution_count": 11,
   "metadata": {},
   "outputs": [],
   "source": [
    "# Oppgave 2.4 \n",
    "    # Hvilken regissør har regissert flest filmer på listen?\n",
    "        # For hver film er regisørrer en liste. Her holder det med første regissør i listen.\n",
    "        # Bonus: Alle regisørrene i regissørlistene skal telles med.\n",
    "\n",
    "def finn_flest_filmer_regissør(filmliste):\n",
    "    regissør_teller = {}\n",
    "    \n",
    "    for film in filmliste:\n",
    "        for regissør in film[\"regissører\"]:\n",
    "            regissør_teller[regissør] = regissør_teller.get(regissør, 0) + 1\n",
    "    \n",
    "    flest_filmer_regissør = max(regissør_teller, key=regissør_teller.get)\n",
    "    antall_filmer = regissør_teller[flest_filmer_regissør]\n",
    "    \n",
    "    return flest_filmer_regissør, antall_filmer\n"
   ]
  }
 ],
 "metadata": {
  "kernelspec": {
   "display_name": "Python 3",
   "language": "python",
   "name": "python3"
  },
  "language_info": {
   "codemirror_mode": {
    "name": "ipython",
    "version": 3
   },
   "file_extension": ".py",
   "mimetype": "text/x-python",
   "name": "python",
   "nbconvert_exporter": "python",
   "pygments_lexer": "ipython3",
   "version": "3.11.4"
  }
 },
 "nbformat": 4,
 "nbformat_minor": 2
}
